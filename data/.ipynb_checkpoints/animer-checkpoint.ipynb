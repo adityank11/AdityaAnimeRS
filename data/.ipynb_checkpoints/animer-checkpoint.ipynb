{
 "cells": [
  {
   "cell_type": "markdown",
   "id": "d608bddd",
   "metadata": {},
   "source": [
    "# Import the necessary libraries/modules"
   ]
  },
  {
   "cell_type": "code",
   "execution_count": 1,
   "id": "e22d4f66",
   "metadata": {},
   "outputs": [],
   "source": [
    "import numpy as np\n",
    "import pandas as pd"
   ]
  },
  {
   "cell_type": "markdown",
   "id": "d6b2942d",
   "metadata": {},
   "source": [
    "# Read the 3 data sets"
   ]
  },
  {
   "cell_type": "code",
   "execution_count": 2,
   "id": "338fd57d",
   "metadata": {},
   "outputs": [],
   "source": [
    "anime_data= pd.read_csv('anime.csv')\n",
    "anime_synopsis = pd.read_csv('anime_with_synopsis.csv')\n",
    "anime_cast = pd.read_csv('anime_producers_studio.csv')"
   ]
  },
  {
   "cell_type": "code",
   "execution_count": 3,
   "id": "154285a3",
   "metadata": {},
   "outputs": [
    {
     "data": {
      "text/html": [
       "<div>\n",
       "<style scoped>\n",
       "    .dataframe tbody tr th:only-of-type {\n",
       "        vertical-align: middle;\n",
       "    }\n",
       "\n",
       "    .dataframe tbody tr th {\n",
       "        vertical-align: top;\n",
       "    }\n",
       "\n",
       "    .dataframe thead th {\n",
       "        text-align: right;\n",
       "    }\n",
       "</style>\n",
       "<table border=\"1\" class=\"dataframe\">\n",
       "  <thead>\n",
       "    <tr style=\"text-align: right;\">\n",
       "      <th></th>\n",
       "      <th>MAL_ID</th>\n",
       "      <th>Name</th>\n",
       "      <th>Score</th>\n",
       "      <th>Genres</th>\n",
       "      <th>English name</th>\n",
       "      <th>Japanese name</th>\n",
       "      <th>Type</th>\n",
       "      <th>Episodes</th>\n",
       "      <th>Aired</th>\n",
       "      <th>Premiered</th>\n",
       "      <th>...</th>\n",
       "      <th>Score-10</th>\n",
       "      <th>Score-9</th>\n",
       "      <th>Score-8</th>\n",
       "      <th>Score-7</th>\n",
       "      <th>Score-6</th>\n",
       "      <th>Score-5</th>\n",
       "      <th>Score-4</th>\n",
       "      <th>Score-3</th>\n",
       "      <th>Score-2</th>\n",
       "      <th>Score-1</th>\n",
       "    </tr>\n",
       "  </thead>\n",
       "  <tbody>\n",
       "    <tr>\n",
       "      <th>0</th>\n",
       "      <td>1</td>\n",
       "      <td>Cowboy Bebop</td>\n",
       "      <td>8.78</td>\n",
       "      <td>Action, Adventure, Comedy, Drama, Sci-Fi, Space</td>\n",
       "      <td>Cowboy Bebop</td>\n",
       "      <td>カウボーイビバップ</td>\n",
       "      <td>TV</td>\n",
       "      <td>26</td>\n",
       "      <td>Apr 3, 1998 to Apr 24, 1999</td>\n",
       "      <td>Spring 1998</td>\n",
       "      <td>...</td>\n",
       "      <td>229170.0</td>\n",
       "      <td>182126.0</td>\n",
       "      <td>131625.0</td>\n",
       "      <td>62330.0</td>\n",
       "      <td>20688.0</td>\n",
       "      <td>8904.0</td>\n",
       "      <td>3184.0</td>\n",
       "      <td>1357.0</td>\n",
       "      <td>741.0</td>\n",
       "      <td>1580.0</td>\n",
       "    </tr>\n",
       "  </tbody>\n",
       "</table>\n",
       "<p>1 rows × 35 columns</p>\n",
       "</div>"
      ],
      "text/plain": [
       "   MAL_ID          Name Score  \\\n",
       "0       1  Cowboy Bebop  8.78   \n",
       "\n",
       "                                            Genres  English name  \\\n",
       "0  Action, Adventure, Comedy, Drama, Sci-Fi, Space  Cowboy Bebop   \n",
       "\n",
       "  Japanese name Type Episodes                        Aired    Premiered  ...  \\\n",
       "0     カウボーイビバップ   TV       26  Apr 3, 1998 to Apr 24, 1999  Spring 1998  ...   \n",
       "\n",
       "   Score-10   Score-9   Score-8  Score-7  Score-6 Score-5 Score-4  Score-3  \\\n",
       "0  229170.0  182126.0  131625.0  62330.0  20688.0  8904.0  3184.0   1357.0   \n",
       "\n",
       "   Score-2  Score-1  \n",
       "0    741.0   1580.0  \n",
       "\n",
       "[1 rows x 35 columns]"
      ]
     },
     "execution_count": 3,
     "metadata": {},
     "output_type": "execute_result"
    }
   ],
   "source": [
    "anime_data.head(1)"
   ]
  },
  {
   "cell_type": "code",
   "execution_count": 4,
   "id": "9b2f4c6d",
   "metadata": {},
   "outputs": [
    {
     "data": {
      "text/html": [
       "<div>\n",
       "<style scoped>\n",
       "    .dataframe tbody tr th:only-of-type {\n",
       "        vertical-align: middle;\n",
       "    }\n",
       "\n",
       "    .dataframe tbody tr th {\n",
       "        vertical-align: top;\n",
       "    }\n",
       "\n",
       "    .dataframe thead th {\n",
       "        text-align: right;\n",
       "    }\n",
       "</style>\n",
       "<table border=\"1\" class=\"dataframe\">\n",
       "  <thead>\n",
       "    <tr style=\"text-align: right;\">\n",
       "      <th></th>\n",
       "      <th>MAL_ID</th>\n",
       "      <th>Name</th>\n",
       "      <th>Score</th>\n",
       "      <th>Genres</th>\n",
       "      <th>sypnopsis</th>\n",
       "    </tr>\n",
       "  </thead>\n",
       "  <tbody>\n",
       "    <tr>\n",
       "      <th>0</th>\n",
       "      <td>1</td>\n",
       "      <td>Cowboy Bebop</td>\n",
       "      <td>8.78</td>\n",
       "      <td>Action, Adventure, Comedy, Drama, Sci-Fi, Space</td>\n",
       "      <td>In the year 2071, humanity has colonized sever...</td>\n",
       "    </tr>\n",
       "  </tbody>\n",
       "</table>\n",
       "</div>"
      ],
      "text/plain": [
       "   MAL_ID          Name Score  \\\n",
       "0       1  Cowboy Bebop  8.78   \n",
       "\n",
       "                                            Genres  \\\n",
       "0  Action, Adventure, Comedy, Drama, Sci-Fi, Space   \n",
       "\n",
       "                                           sypnopsis  \n",
       "0  In the year 2071, humanity has colonized sever...  "
      ]
     },
     "execution_count": 4,
     "metadata": {},
     "output_type": "execute_result"
    }
   ],
   "source": [
    "anime_synopsis.head(1)"
   ]
  },
  {
   "cell_type": "code",
   "execution_count": 5,
   "id": "3a7fb5b1",
   "metadata": {},
   "outputs": [
    {
     "data": {
      "text/html": [
       "<div>\n",
       "<style scoped>\n",
       "    .dataframe tbody tr th:only-of-type {\n",
       "        vertical-align: middle;\n",
       "    }\n",
       "\n",
       "    .dataframe tbody tr th {\n",
       "        vertical-align: top;\n",
       "    }\n",
       "\n",
       "    .dataframe thead th {\n",
       "        text-align: right;\n",
       "    }\n",
       "</style>\n",
       "<table border=\"1\" class=\"dataframe\">\n",
       "  <thead>\n",
       "    <tr style=\"text-align: right;\">\n",
       "      <th></th>\n",
       "      <th>Anime_id</th>\n",
       "      <th>Title</th>\n",
       "      <th>Producer</th>\n",
       "      <th>Studio</th>\n",
       "    </tr>\n",
       "  </thead>\n",
       "  <tbody>\n",
       "    <tr>\n",
       "      <th>0</th>\n",
       "      <td>1</td>\n",
       "      <td>Cowboy Bebop</td>\n",
       "      <td>['Bandai Visual']</td>\n",
       "      <td>['Sunrise']</td>\n",
       "    </tr>\n",
       "  </tbody>\n",
       "</table>\n",
       "</div>"
      ],
      "text/plain": [
       "   Anime_id         Title           Producer       Studio\n",
       "0         1  Cowboy Bebop  ['Bandai Visual']  ['Sunrise']"
      ]
     },
     "execution_count": 5,
     "metadata": {},
     "output_type": "execute_result"
    }
   ],
   "source": [
    "anime_cast.head(1)"
   ]
  },
  {
   "cell_type": "markdown",
   "id": "7da7a55a",
   "metadata": {},
   "source": [
    "# Merge the anime_data and anime_synopsis datasets on basis of MAL_ID"
   ]
  },
  {
   "cell_type": "code",
   "execution_count": 6,
   "id": "8263df11",
   "metadata": {},
   "outputs": [
    {
     "data": {
      "text/plain": [
       "(16214, 39)"
      ]
     },
     "execution_count": 6,
     "metadata": {},
     "output_type": "execute_result"
    }
   ],
   "source": [
    "anime_data.merge(anime_synopsis,on='MAL_ID').shape"
   ]
  },
  {
   "cell_type": "code",
   "execution_count": 7,
   "id": "e2988e0c",
   "metadata": {},
   "outputs": [
    {
     "data": {
      "text/plain": [
       "(17562, 35)"
      ]
     },
     "execution_count": 7,
     "metadata": {},
     "output_type": "execute_result"
    }
   ],
   "source": [
    "anime_data.shape"
   ]
  },
  {
   "cell_type": "code",
   "execution_count": 8,
   "id": "bede4ca6",
   "metadata": {},
   "outputs": [
    {
     "data": {
      "text/plain": [
       "(16214, 5)"
      ]
     },
     "execution_count": 8,
     "metadata": {},
     "output_type": "execute_result"
    }
   ],
   "source": [
    "anime_synopsis.shape"
   ]
  },
  {
   "cell_type": "code",
   "execution_count": 9,
   "id": "746fe34c",
   "metadata": {},
   "outputs": [],
   "source": [
    "anime_data = anime_data.merge(anime_synopsis,on='MAL_ID')"
   ]
  },
  {
   "cell_type": "code",
   "execution_count": 10,
   "id": "31539791",
   "metadata": {},
   "outputs": [
    {
     "data": {
      "text/plain": [
       "(16214, 39)"
      ]
     },
     "execution_count": 10,
     "metadata": {},
     "output_type": "execute_result"
    }
   ],
   "source": [
    "anime_data.shape"
   ]
  },
  {
   "cell_type": "code",
   "execution_count": 11,
   "id": "db8faf5e",
   "metadata": {},
   "outputs": [
    {
     "data": {
      "text/html": [
       "<div>\n",
       "<style scoped>\n",
       "    .dataframe tbody tr th:only-of-type {\n",
       "        vertical-align: middle;\n",
       "    }\n",
       "\n",
       "    .dataframe tbody tr th {\n",
       "        vertical-align: top;\n",
       "    }\n",
       "\n",
       "    .dataframe thead th {\n",
       "        text-align: right;\n",
       "    }\n",
       "</style>\n",
       "<table border=\"1\" class=\"dataframe\">\n",
       "  <thead>\n",
       "    <tr style=\"text-align: right;\">\n",
       "      <th></th>\n",
       "      <th>MAL_ID</th>\n",
       "      <th>Name_x</th>\n",
       "      <th>Score_x</th>\n",
       "      <th>Genres_x</th>\n",
       "      <th>English name</th>\n",
       "      <th>Japanese name</th>\n",
       "      <th>Type</th>\n",
       "      <th>Episodes</th>\n",
       "      <th>Aired</th>\n",
       "      <th>Premiered</th>\n",
       "      <th>...</th>\n",
       "      <th>Score-6</th>\n",
       "      <th>Score-5</th>\n",
       "      <th>Score-4</th>\n",
       "      <th>Score-3</th>\n",
       "      <th>Score-2</th>\n",
       "      <th>Score-1</th>\n",
       "      <th>Name_y</th>\n",
       "      <th>Score_y</th>\n",
       "      <th>Genres_y</th>\n",
       "      <th>sypnopsis</th>\n",
       "    </tr>\n",
       "  </thead>\n",
       "  <tbody>\n",
       "    <tr>\n",
       "      <th>0</th>\n",
       "      <td>1</td>\n",
       "      <td>Cowboy Bebop</td>\n",
       "      <td>8.78</td>\n",
       "      <td>Action, Adventure, Comedy, Drama, Sci-Fi, Space</td>\n",
       "      <td>Cowboy Bebop</td>\n",
       "      <td>カウボーイビバップ</td>\n",
       "      <td>TV</td>\n",
       "      <td>26</td>\n",
       "      <td>Apr 3, 1998 to Apr 24, 1999</td>\n",
       "      <td>Spring 1998</td>\n",
       "      <td>...</td>\n",
       "      <td>20688.0</td>\n",
       "      <td>8904.0</td>\n",
       "      <td>3184.0</td>\n",
       "      <td>1357.0</td>\n",
       "      <td>741.0</td>\n",
       "      <td>1580.0</td>\n",
       "      <td>Cowboy Bebop</td>\n",
       "      <td>8.78</td>\n",
       "      <td>Action, Adventure, Comedy, Drama, Sci-Fi, Space</td>\n",
       "      <td>In the year 2071, humanity has colonized sever...</td>\n",
       "    </tr>\n",
       "    <tr>\n",
       "      <th>1</th>\n",
       "      <td>5</td>\n",
       "      <td>Cowboy Bebop: Tengoku no Tobira</td>\n",
       "      <td>8.39</td>\n",
       "      <td>Action, Drama, Mystery, Sci-Fi, Space</td>\n",
       "      <td>Cowboy Bebop:The Movie</td>\n",
       "      <td>カウボーイビバップ 天国の扉</td>\n",
       "      <td>Movie</td>\n",
       "      <td>1</td>\n",
       "      <td>Sep 1, 2001</td>\n",
       "      <td>Unknown</td>\n",
       "      <td>...</td>\n",
       "      <td>5805.0</td>\n",
       "      <td>1877.0</td>\n",
       "      <td>577.0</td>\n",
       "      <td>221.0</td>\n",
       "      <td>109.0</td>\n",
       "      <td>379.0</td>\n",
       "      <td>Cowboy Bebop: Tengoku no Tobira</td>\n",
       "      <td>8.39</td>\n",
       "      <td>Action, Drama, Mystery, Sci-Fi, Space</td>\n",
       "      <td>other day, another bounty—such is the life of ...</td>\n",
       "    </tr>\n",
       "    <tr>\n",
       "      <th>2</th>\n",
       "      <td>6</td>\n",
       "      <td>Trigun</td>\n",
       "      <td>8.24</td>\n",
       "      <td>Action, Sci-Fi, Adventure, Comedy, Drama, Shounen</td>\n",
       "      <td>Trigun</td>\n",
       "      <td>トライガン</td>\n",
       "      <td>TV</td>\n",
       "      <td>26</td>\n",
       "      <td>Apr 1, 1998 to Sep 30, 1998</td>\n",
       "      <td>Spring 1998</td>\n",
       "      <td>...</td>\n",
       "      <td>15376.0</td>\n",
       "      <td>5838.0</td>\n",
       "      <td>1965.0</td>\n",
       "      <td>664.0</td>\n",
       "      <td>316.0</td>\n",
       "      <td>533.0</td>\n",
       "      <td>Trigun</td>\n",
       "      <td>8.24</td>\n",
       "      <td>Action, Sci-Fi, Adventure, Comedy, Drama, Shounen</td>\n",
       "      <td>Vash the Stampede is the man with a $$60,000,0...</td>\n",
       "    </tr>\n",
       "    <tr>\n",
       "      <th>3</th>\n",
       "      <td>7</td>\n",
       "      <td>Witch Hunter Robin</td>\n",
       "      <td>7.27</td>\n",
       "      <td>Action, Mystery, Police, Supernatural, Drama, ...</td>\n",
       "      <td>Witch Hunter Robin</td>\n",
       "      <td>Witch Hunter ROBIN (ウイッチハンターロビン)</td>\n",
       "      <td>TV</td>\n",
       "      <td>26</td>\n",
       "      <td>Jul 2, 2002 to Dec 24, 2002</td>\n",
       "      <td>Summer 2002</td>\n",
       "      <td>...</td>\n",
       "      <td>5709.0</td>\n",
       "      <td>2920.0</td>\n",
       "      <td>1083.0</td>\n",
       "      <td>353.0</td>\n",
       "      <td>164.0</td>\n",
       "      <td>131.0</td>\n",
       "      <td>Witch Hunter Robin</td>\n",
       "      <td>7.27</td>\n",
       "      <td>Action, Mystery, Police, Supernatural, Drama, ...</td>\n",
       "      <td>ches are individuals with special powers like ...</td>\n",
       "    </tr>\n",
       "    <tr>\n",
       "      <th>4</th>\n",
       "      <td>8</td>\n",
       "      <td>Bouken Ou Beet</td>\n",
       "      <td>6.98</td>\n",
       "      <td>Adventure, Fantasy, Shounen, Supernatural</td>\n",
       "      <td>Beet the Vandel Buster</td>\n",
       "      <td>冒険王ビィト</td>\n",
       "      <td>TV</td>\n",
       "      <td>52</td>\n",
       "      <td>Sep 30, 2004 to Sep 29, 2005</td>\n",
       "      <td>Fall 2004</td>\n",
       "      <td>...</td>\n",
       "      <td>1068.0</td>\n",
       "      <td>634.0</td>\n",
       "      <td>265.0</td>\n",
       "      <td>83.0</td>\n",
       "      <td>50.0</td>\n",
       "      <td>27.0</td>\n",
       "      <td>Bouken Ou Beet</td>\n",
       "      <td>6.98</td>\n",
       "      <td>Adventure, Fantasy, Shounen, Supernatural</td>\n",
       "      <td>It is the dark century and the people are suff...</td>\n",
       "    </tr>\n",
       "  </tbody>\n",
       "</table>\n",
       "<p>5 rows × 39 columns</p>\n",
       "</div>"
      ],
      "text/plain": [
       "   MAL_ID                           Name_x Score_x  \\\n",
       "0       1                     Cowboy Bebop    8.78   \n",
       "1       5  Cowboy Bebop: Tengoku no Tobira    8.39   \n",
       "2       6                           Trigun    8.24   \n",
       "3       7               Witch Hunter Robin    7.27   \n",
       "4       8                   Bouken Ou Beet    6.98   \n",
       "\n",
       "                                            Genres_x            English name  \\\n",
       "0    Action, Adventure, Comedy, Drama, Sci-Fi, Space            Cowboy Bebop   \n",
       "1              Action, Drama, Mystery, Sci-Fi, Space  Cowboy Bebop:The Movie   \n",
       "2  Action, Sci-Fi, Adventure, Comedy, Drama, Shounen                  Trigun   \n",
       "3  Action, Mystery, Police, Supernatural, Drama, ...      Witch Hunter Robin   \n",
       "4          Adventure, Fantasy, Shounen, Supernatural  Beet the Vandel Buster   \n",
       "\n",
       "                      Japanese name   Type Episodes  \\\n",
       "0                         カウボーイビバップ     TV       26   \n",
       "1                    カウボーイビバップ 天国の扉  Movie        1   \n",
       "2                             トライガン     TV       26   \n",
       "3  Witch Hunter ROBIN (ウイッチハンターロビン)     TV       26   \n",
       "4                            冒険王ビィト     TV       52   \n",
       "\n",
       "                          Aired    Premiered  ...  Score-6 Score-5 Score-4  \\\n",
       "0   Apr 3, 1998 to Apr 24, 1999  Spring 1998  ...  20688.0  8904.0  3184.0   \n",
       "1                   Sep 1, 2001      Unknown  ...   5805.0  1877.0   577.0   \n",
       "2   Apr 1, 1998 to Sep 30, 1998  Spring 1998  ...  15376.0  5838.0  1965.0   \n",
       "3   Jul 2, 2002 to Dec 24, 2002  Summer 2002  ...   5709.0  2920.0  1083.0   \n",
       "4  Sep 30, 2004 to Sep 29, 2005    Fall 2004  ...   1068.0   634.0   265.0   \n",
       "\n",
       "  Score-3 Score-2 Score-1                           Name_y  Score_y  \\\n",
       "0  1357.0   741.0  1580.0                     Cowboy Bebop     8.78   \n",
       "1   221.0   109.0   379.0  Cowboy Bebop: Tengoku no Tobira     8.39   \n",
       "2   664.0   316.0   533.0                           Trigun     8.24   \n",
       "3   353.0   164.0   131.0               Witch Hunter Robin     7.27   \n",
       "4    83.0    50.0    27.0                   Bouken Ou Beet     6.98   \n",
       "\n",
       "                                            Genres_y  \\\n",
       "0    Action, Adventure, Comedy, Drama, Sci-Fi, Space   \n",
       "1              Action, Drama, Mystery, Sci-Fi, Space   \n",
       "2  Action, Sci-Fi, Adventure, Comedy, Drama, Shounen   \n",
       "3  Action, Mystery, Police, Supernatural, Drama, ...   \n",
       "4          Adventure, Fantasy, Shounen, Supernatural   \n",
       "\n",
       "                                           sypnopsis  \n",
       "0  In the year 2071, humanity has colonized sever...  \n",
       "1  other day, another bounty—such is the life of ...  \n",
       "2  Vash the Stampede is the man with a $$60,000,0...  \n",
       "3  ches are individuals with special powers like ...  \n",
       "4  It is the dark century and the people are suff...  \n",
       "\n",
       "[5 rows x 39 columns]"
      ]
     },
     "execution_count": 11,
     "metadata": {},
     "output_type": "execute_result"
    }
   ],
   "source": [
    "anime_data.head(5)"
   ]
  },
  {
   "cell_type": "markdown",
   "id": "8c7ee1fa",
   "metadata": {},
   "source": [
    "# Merge the resultant data set with the 3rd data set i.e anime_cast"
   ]
  },
  {
   "cell_type": "code",
   "execution_count": 12,
   "id": "ea557bc1",
   "metadata": {},
   "outputs": [
    {
     "data": {
      "text/plain": [
       "Index(['Anime_id', 'Title', 'Producer', 'Studio'], dtype='object')"
      ]
     },
     "execution_count": 12,
     "metadata": {},
     "output_type": "execute_result"
    }
   ],
   "source": [
    "anime_cast.columns"
   ]
  },
  {
   "cell_type": "code",
   "execution_count": 13,
   "id": "d2ae1d15",
   "metadata": {},
   "outputs": [],
   "source": [
    "anime_cast.rename(columns={\"Anime_id\": \"MAL_ID\"}, inplace=True)"
   ]
  },
  {
   "cell_type": "code",
   "execution_count": 14,
   "id": "d150e937",
   "metadata": {},
   "outputs": [
    {
     "data": {
      "text/plain": [
       "Index(['MAL_ID', 'Title', 'Producer', 'Studio'], dtype='object')"
      ]
     },
     "execution_count": 14,
     "metadata": {},
     "output_type": "execute_result"
    }
   ],
   "source": [
    "anime_cast.columns"
   ]
  },
  {
   "cell_type": "code",
   "execution_count": 15,
   "id": "bfc5fa27",
   "metadata": {},
   "outputs": [
    {
     "data": {
      "text/plain": [
       "(15148, 42)"
      ]
     },
     "execution_count": 15,
     "metadata": {},
     "output_type": "execute_result"
    }
   ],
   "source": [
    "anime_data.merge(anime_cast,on='MAL_ID').shape"
   ]
  },
  {
   "cell_type": "code",
   "execution_count": 16,
   "id": "2be823a2",
   "metadata": {},
   "outputs": [
    {
     "data": {
      "text/plain": [
       "(16214, 39)"
      ]
     },
     "execution_count": 16,
     "metadata": {},
     "output_type": "execute_result"
    }
   ],
   "source": [
    "anime_data.shape"
   ]
  },
  {
   "cell_type": "code",
   "execution_count": 17,
   "id": "beb2b231",
   "metadata": {},
   "outputs": [
    {
     "data": {
      "text/plain": [
       "(17002, 4)"
      ]
     },
     "execution_count": 17,
     "metadata": {},
     "output_type": "execute_result"
    }
   ],
   "source": [
    "anime_cast.shape"
   ]
  },
  {
   "cell_type": "code",
   "execution_count": 18,
   "id": "7afb3722",
   "metadata": {},
   "outputs": [],
   "source": [
    "anime_data = anime_data.merge(anime_cast,on='MAL_ID')"
   ]
  },
  {
   "cell_type": "code",
   "execution_count": 19,
   "id": "def5b36e",
   "metadata": {},
   "outputs": [
    {
     "data": {
      "text/plain": [
       "(15148, 42)"
      ]
     },
     "execution_count": 19,
     "metadata": {},
     "output_type": "execute_result"
    }
   ],
   "source": [
    "anime_data.shape"
   ]
  },
  {
   "cell_type": "markdown",
   "id": "2fd1ca93",
   "metadata": {},
   "source": [
    "# Now, we select the useful columns for our recommendation system"
   ]
  },
  {
   "cell_type": "code",
   "execution_count": 20,
   "id": "f947af4d",
   "metadata": {},
   "outputs": [
    {
     "data": {
      "text/plain": [
       "Index(['MAL_ID', 'Name_x', 'Score_x', 'Genres_x', 'English name',\n",
       "       'Japanese name', 'Type', 'Episodes', 'Aired', 'Premiered', 'Producers',\n",
       "       'Licensors', 'Studios', 'Source', 'Duration', 'Rating', 'Ranked',\n",
       "       'Popularity', 'Members', 'Favorites', 'Watching', 'Completed',\n",
       "       'On-Hold', 'Dropped', 'Plan to Watch', 'Score-10', 'Score-9', 'Score-8',\n",
       "       'Score-7', 'Score-6', 'Score-5', 'Score-4', 'Score-3', 'Score-2',\n",
       "       'Score-1', 'Name_y', 'Score_y', 'Genres_y', 'sypnopsis', 'Title',\n",
       "       'Producer', 'Studio'],\n",
       "      dtype='object')"
      ]
     },
     "execution_count": 20,
     "metadata": {},
     "output_type": "execute_result"
    }
   ],
   "source": [
    "anime_data.columns"
   ]
  },
  {
   "cell_type": "markdown",
   "id": "17a7d9fd",
   "metadata": {},
   "source": [
    "# The columns which we need are MAL_ID,Name_x,Japanese_name,Type,Genres,Producer,Studio,Synopsis"
   ]
  },
  {
   "cell_type": "code",
   "execution_count": 21,
   "id": "a1de6a6e",
   "metadata": {},
   "outputs": [
    {
     "data": {
      "text/html": [
       "<div>\n",
       "<style scoped>\n",
       "    .dataframe tbody tr th:only-of-type {\n",
       "        vertical-align: middle;\n",
       "    }\n",
       "\n",
       "    .dataframe tbody tr th {\n",
       "        vertical-align: top;\n",
       "    }\n",
       "\n",
       "    .dataframe thead th {\n",
       "        text-align: right;\n",
       "    }\n",
       "</style>\n",
       "<table border=\"1\" class=\"dataframe\">\n",
       "  <thead>\n",
       "    <tr style=\"text-align: right;\">\n",
       "      <th></th>\n",
       "      <th>MAL_ID</th>\n",
       "      <th>Name_x</th>\n",
       "      <th>Japanese name</th>\n",
       "      <th>Type</th>\n",
       "      <th>Genres_x</th>\n",
       "      <th>Producer</th>\n",
       "      <th>Studio</th>\n",
       "      <th>sypnopsis</th>\n",
       "    </tr>\n",
       "  </thead>\n",
       "  <tbody>\n",
       "    <tr>\n",
       "      <th>0</th>\n",
       "      <td>1</td>\n",
       "      <td>Cowboy Bebop</td>\n",
       "      <td>カウボーイビバップ</td>\n",
       "      <td>TV</td>\n",
       "      <td>Action, Adventure, Comedy, Drama, Sci-Fi, Space</td>\n",
       "      <td>['Bandai Visual']</td>\n",
       "      <td>['Sunrise']</td>\n",
       "      <td>In the year 2071, humanity has colonized sever...</td>\n",
       "    </tr>\n",
       "    <tr>\n",
       "      <th>1</th>\n",
       "      <td>5</td>\n",
       "      <td>Cowboy Bebop: Tengoku no Tobira</td>\n",
       "      <td>カウボーイビバップ 天国の扉</td>\n",
       "      <td>Movie</td>\n",
       "      <td>Action, Drama, Mystery, Sci-Fi, Space</td>\n",
       "      <td>['Sunrise', 'Bandai Visual']</td>\n",
       "      <td>['Bones']</td>\n",
       "      <td>other day, another bounty—such is the life of ...</td>\n",
       "    </tr>\n",
       "    <tr>\n",
       "      <th>2</th>\n",
       "      <td>6</td>\n",
       "      <td>Trigun</td>\n",
       "      <td>トライガン</td>\n",
       "      <td>TV</td>\n",
       "      <td>Action, Sci-Fi, Adventure, Comedy, Drama, Shounen</td>\n",
       "      <td>['Victor Entertainment']</td>\n",
       "      <td>['Madhouse']</td>\n",
       "      <td>Vash the Stampede is the man with a $$60,000,0...</td>\n",
       "    </tr>\n",
       "    <tr>\n",
       "      <th>3</th>\n",
       "      <td>7</td>\n",
       "      <td>Witch Hunter Robin</td>\n",
       "      <td>Witch Hunter ROBIN (ウイッチハンターロビン)</td>\n",
       "      <td>TV</td>\n",
       "      <td>Action, Mystery, Police, Supernatural, Drama, ...</td>\n",
       "      <td>['Bandai Visual']</td>\n",
       "      <td>['Sunrise']</td>\n",
       "      <td>ches are individuals with special powers like ...</td>\n",
       "    </tr>\n",
       "    <tr>\n",
       "      <th>4</th>\n",
       "      <td>8</td>\n",
       "      <td>Bouken Ou Beet</td>\n",
       "      <td>冒険王ビィト</td>\n",
       "      <td>TV</td>\n",
       "      <td>Adventure, Fantasy, Shounen, Supernatural</td>\n",
       "      <td>NaN</td>\n",
       "      <td>['Toei Animation']</td>\n",
       "      <td>It is the dark century and the people are suff...</td>\n",
       "    </tr>\n",
       "    <tr>\n",
       "      <th>...</th>\n",
       "      <td>...</td>\n",
       "      <td>...</td>\n",
       "      <td>...</td>\n",
       "      <td>...</td>\n",
       "      <td>...</td>\n",
       "      <td>...</td>\n",
       "      <td>...</td>\n",
       "      <td>...</td>\n",
       "    </tr>\n",
       "    <tr>\n",
       "      <th>15143</th>\n",
       "      <td>40938</td>\n",
       "      <td>Hige wo Soru. Soshite Joshikousei wo Hirou.</td>\n",
       "      <td>ひげを剃る。そして女子高生を拾う。</td>\n",
       "      <td>TV</td>\n",
       "      <td>Drama, Romance</td>\n",
       "      <td>NaN</td>\n",
       "      <td>NaN</td>\n",
       "      <td>Office worker Yoshida has been crushing on his...</td>\n",
       "    </tr>\n",
       "    <tr>\n",
       "      <th>15144</th>\n",
       "      <td>40956</td>\n",
       "      <td>Enen no Shouboutai: Ni no Shou</td>\n",
       "      <td>炎炎ノ消防隊 弐ノ章</td>\n",
       "      <td>TV</td>\n",
       "      <td>Action, Supernatural, Shounen</td>\n",
       "      <td>NaN</td>\n",
       "      <td>NaN</td>\n",
       "      <td>fter his confrontation in the Nether with his ...</td>\n",
       "    </tr>\n",
       "    <tr>\n",
       "      <th>15145</th>\n",
       "      <td>40957</td>\n",
       "      <td>Shin Chuuka Ichiban! 2nd Season</td>\n",
       "      <td>真・中華一番!</td>\n",
       "      <td>TV</td>\n",
       "      <td>Comedy, Shounen</td>\n",
       "      <td>NaN</td>\n",
       "      <td>NaN</td>\n",
       "      <td>Sequel of Shin Chuuka Ichiban .</td>\n",
       "    </tr>\n",
       "    <tr>\n",
       "      <th>15146</th>\n",
       "      <td>40957</td>\n",
       "      <td>Shin Chuuka Ichiban! 2nd Season</td>\n",
       "      <td>真・中華一番!</td>\n",
       "      <td>TV</td>\n",
       "      <td>Comedy, Shounen</td>\n",
       "      <td>NaN</td>\n",
       "      <td>NaN</td>\n",
       "      <td>Sequel of Shin Chuuka Ichiban .</td>\n",
       "    </tr>\n",
       "    <tr>\n",
       "      <th>15147</th>\n",
       "      <td>40960</td>\n",
       "      <td>Cheat Kusushi no Slow Life: Isekai ni Tsukurou...</td>\n",
       "      <td>チート薬師のスローライフ～異世界に作ろうドラッグストア～</td>\n",
       "      <td>TV</td>\n",
       "      <td>Comedy, Fantasy</td>\n",
       "      <td>NaN</td>\n",
       "      <td>NaN</td>\n",
       "      <td>One day, a corporate slave Reiji, suddenly got...</td>\n",
       "    </tr>\n",
       "  </tbody>\n",
       "</table>\n",
       "<p>15148 rows × 8 columns</p>\n",
       "</div>"
      ],
      "text/plain": [
       "       MAL_ID                                             Name_x  \\\n",
       "0           1                                       Cowboy Bebop   \n",
       "1           5                    Cowboy Bebop: Tengoku no Tobira   \n",
       "2           6                                             Trigun   \n",
       "3           7                                 Witch Hunter Robin   \n",
       "4           8                                     Bouken Ou Beet   \n",
       "...       ...                                                ...   \n",
       "15143   40938        Hige wo Soru. Soshite Joshikousei wo Hirou.   \n",
       "15144   40956                     Enen no Shouboutai: Ni no Shou   \n",
       "15145   40957                    Shin Chuuka Ichiban! 2nd Season   \n",
       "15146   40957                    Shin Chuuka Ichiban! 2nd Season   \n",
       "15147   40960  Cheat Kusushi no Slow Life: Isekai ni Tsukurou...   \n",
       "\n",
       "                          Japanese name   Type  \\\n",
       "0                             カウボーイビバップ     TV   \n",
       "1                        カウボーイビバップ 天国の扉  Movie   \n",
       "2                                 トライガン     TV   \n",
       "3      Witch Hunter ROBIN (ウイッチハンターロビン)     TV   \n",
       "4                                冒険王ビィト     TV   \n",
       "...                                 ...    ...   \n",
       "15143                 ひげを剃る。そして女子高生を拾う。     TV   \n",
       "15144                        炎炎ノ消防隊 弐ノ章     TV   \n",
       "15145                           真・中華一番!     TV   \n",
       "15146                           真・中華一番!     TV   \n",
       "15147      チート薬師のスローライフ～異世界に作ろうドラッグストア～     TV   \n",
       "\n",
       "                                                Genres_x  \\\n",
       "0        Action, Adventure, Comedy, Drama, Sci-Fi, Space   \n",
       "1                  Action, Drama, Mystery, Sci-Fi, Space   \n",
       "2      Action, Sci-Fi, Adventure, Comedy, Drama, Shounen   \n",
       "3      Action, Mystery, Police, Supernatural, Drama, ...   \n",
       "4              Adventure, Fantasy, Shounen, Supernatural   \n",
       "...                                                  ...   \n",
       "15143                                     Drama, Romance   \n",
       "15144                      Action, Supernatural, Shounen   \n",
       "15145                                    Comedy, Shounen   \n",
       "15146                                    Comedy, Shounen   \n",
       "15147                                    Comedy, Fantasy   \n",
       "\n",
       "                           Producer              Studio  \\\n",
       "0                 ['Bandai Visual']         ['Sunrise']   \n",
       "1      ['Sunrise', 'Bandai Visual']           ['Bones']   \n",
       "2          ['Victor Entertainment']        ['Madhouse']   \n",
       "3                 ['Bandai Visual']         ['Sunrise']   \n",
       "4                               NaN  ['Toei Animation']   \n",
       "...                             ...                 ...   \n",
       "15143                           NaN                 NaN   \n",
       "15144                           NaN                 NaN   \n",
       "15145                           NaN                 NaN   \n",
       "15146                           NaN                 NaN   \n",
       "15147                           NaN                 NaN   \n",
       "\n",
       "                                               sypnopsis  \n",
       "0      In the year 2071, humanity has colonized sever...  \n",
       "1      other day, another bounty—such is the life of ...  \n",
       "2      Vash the Stampede is the man with a $$60,000,0...  \n",
       "3      ches are individuals with special powers like ...  \n",
       "4      It is the dark century and the people are suff...  \n",
       "...                                                  ...  \n",
       "15143  Office worker Yoshida has been crushing on his...  \n",
       "15144  fter his confrontation in the Nether with his ...  \n",
       "15145                    Sequel of Shin Chuuka Ichiban .  \n",
       "15146                    Sequel of Shin Chuuka Ichiban .  \n",
       "15147  One day, a corporate slave Reiji, suddenly got...  \n",
       "\n",
       "[15148 rows x 8 columns]"
      ]
     },
     "execution_count": 21,
     "metadata": {},
     "output_type": "execute_result"
    }
   ],
   "source": [
    "anime_data[['MAL_ID','Name_x','Japanese name','Type','Genres_x','Producer','Studio','sypnopsis']]"
   ]
  },
  {
   "cell_type": "code",
   "execution_count": 22,
   "id": "c181baf7",
   "metadata": {},
   "outputs": [],
   "source": [
    "anime_data = anime_data[['MAL_ID','Name_x','Japanese name','Type','Genres_x','Producer','Studio','sypnopsis']]"
   ]
  },
  {
   "cell_type": "markdown",
   "id": "d5c5b285",
   "metadata": {},
   "source": [
    "# Let's check for missing values and handle the same"
   ]
  },
  {
   "cell_type": "code",
   "execution_count": 23,
   "id": "ae27aeb1",
   "metadata": {},
   "outputs": [
    {
     "data": {
      "text/plain": [
       "MAL_ID              0\n",
       "Name_x              0\n",
       "Japanese name       0\n",
       "Type                0\n",
       "Genres_x            0\n",
       "Producer         8383\n",
       "Studio           7590\n",
       "sypnopsis           4\n",
       "dtype: int64"
      ]
     },
     "execution_count": 23,
     "metadata": {},
     "output_type": "execute_result"
    }
   ],
   "source": [
    "anime_data.isnull().sum()"
   ]
  },
  {
   "cell_type": "code",
   "execution_count": 24,
   "id": "a37c6b63",
   "metadata": {},
   "outputs": [
    {
     "data": {
      "text/plain": [
       "(15148, 8)"
      ]
     },
     "execution_count": 24,
     "metadata": {},
     "output_type": "execute_result"
    }
   ],
   "source": [
    "anime_data.shape"
   ]
  },
  {
   "cell_type": "code",
   "execution_count": 25,
   "id": "b21fb5c0",
   "metadata": {},
   "outputs": [],
   "source": [
    "anime_data.dropna(inplace=True)"
   ]
  },
  {
   "cell_type": "code",
   "execution_count": 26,
   "id": "2bdcef3d",
   "metadata": {},
   "outputs": [
    {
     "data": {
      "text/plain": [
       "(4464, 8)"
      ]
     },
     "execution_count": 26,
     "metadata": {},
     "output_type": "execute_result"
    }
   ],
   "source": [
    "anime_data.shape"
   ]
  },
  {
   "cell_type": "code",
   "execution_count": 27,
   "id": "21155dd7",
   "metadata": {},
   "outputs": [
    {
     "data": {
      "text/plain": [
       "MAL_ID           0\n",
       "Name_x           0\n",
       "Japanese name    0\n",
       "Type             0\n",
       "Genres_x         0\n",
       "Producer         0\n",
       "Studio           0\n",
       "sypnopsis        0\n",
       "dtype: int64"
      ]
     },
     "execution_count": 27,
     "metadata": {},
     "output_type": "execute_result"
    }
   ],
   "source": [
    "anime_data.isnull().sum()"
   ]
  },
  {
   "cell_type": "code",
   "execution_count": 28,
   "id": "87ae55a8",
   "metadata": {
    "scrolled": true
   },
   "outputs": [],
   "source": [
    "# anime_data['Voice Actors'] = np.vectorize(fetch_seiyuus)(anime_data['MAL_ID'])\n",
    "# # anime_data['Voice Actors'] = anime_data.apply(lambda x: fetch_seiyuus(anime_data['MAL_ID']),axis=1)"
   ]
  },
  {
   "cell_type": "markdown",
   "id": "ba3931ac",
   "metadata": {},
   "source": [
    "# Now for preprocessing, we need to deal with each column one by one"
   ]
  },
  {
   "cell_type": "markdown",
   "id": "fc68e1d9",
   "metadata": {},
   "source": [
    "# i) First, let's deal with the type column"
   ]
  },
  {
   "cell_type": "code",
   "execution_count": 29,
   "id": "0a7340cf",
   "metadata": {},
   "outputs": [
    {
     "data": {
      "text/html": [
       "<div>\n",
       "<style scoped>\n",
       "    .dataframe tbody tr th:only-of-type {\n",
       "        vertical-align: middle;\n",
       "    }\n",
       "\n",
       "    .dataframe tbody tr th {\n",
       "        vertical-align: top;\n",
       "    }\n",
       "\n",
       "    .dataframe thead th {\n",
       "        text-align: right;\n",
       "    }\n",
       "</style>\n",
       "<table border=\"1\" class=\"dataframe\">\n",
       "  <thead>\n",
       "    <tr style=\"text-align: right;\">\n",
       "      <th></th>\n",
       "      <th>MAL_ID</th>\n",
       "      <th>Name_x</th>\n",
       "      <th>Japanese name</th>\n",
       "      <th>Type</th>\n",
       "      <th>Genres_x</th>\n",
       "      <th>Producer</th>\n",
       "      <th>Studio</th>\n",
       "      <th>sypnopsis</th>\n",
       "    </tr>\n",
       "  </thead>\n",
       "  <tbody>\n",
       "    <tr>\n",
       "      <th>0</th>\n",
       "      <td>1</td>\n",
       "      <td>Cowboy Bebop</td>\n",
       "      <td>カウボーイビバップ</td>\n",
       "      <td>TV</td>\n",
       "      <td>Action, Adventure, Comedy, Drama, Sci-Fi, Space</td>\n",
       "      <td>['Bandai Visual']</td>\n",
       "      <td>['Sunrise']</td>\n",
       "      <td>In the year 2071, humanity has colonized sever...</td>\n",
       "    </tr>\n",
       "    <tr>\n",
       "      <th>1</th>\n",
       "      <td>5</td>\n",
       "      <td>Cowboy Bebop: Tengoku no Tobira</td>\n",
       "      <td>カウボーイビバップ 天国の扉</td>\n",
       "      <td>Movie</td>\n",
       "      <td>Action, Drama, Mystery, Sci-Fi, Space</td>\n",
       "      <td>['Sunrise', 'Bandai Visual']</td>\n",
       "      <td>['Bones']</td>\n",
       "      <td>other day, another bounty—such is the life of ...</td>\n",
       "    </tr>\n",
       "    <tr>\n",
       "      <th>2</th>\n",
       "      <td>6</td>\n",
       "      <td>Trigun</td>\n",
       "      <td>トライガン</td>\n",
       "      <td>TV</td>\n",
       "      <td>Action, Sci-Fi, Adventure, Comedy, Drama, Shounen</td>\n",
       "      <td>['Victor Entertainment']</td>\n",
       "      <td>['Madhouse']</td>\n",
       "      <td>Vash the Stampede is the man with a $$60,000,0...</td>\n",
       "    </tr>\n",
       "    <tr>\n",
       "      <th>3</th>\n",
       "      <td>7</td>\n",
       "      <td>Witch Hunter Robin</td>\n",
       "      <td>Witch Hunter ROBIN (ウイッチハンターロビン)</td>\n",
       "      <td>TV</td>\n",
       "      <td>Action, Mystery, Police, Supernatural, Drama, ...</td>\n",
       "      <td>['Bandai Visual']</td>\n",
       "      <td>['Sunrise']</td>\n",
       "      <td>ches are individuals with special powers like ...</td>\n",
       "    </tr>\n",
       "    <tr>\n",
       "      <th>5</th>\n",
       "      <td>15</td>\n",
       "      <td>Eyeshield 21</td>\n",
       "      <td>アイシールド21</td>\n",
       "      <td>TV</td>\n",
       "      <td>Action, Sports, Comedy, Shounen</td>\n",
       "      <td>['TV Tokyo', 'Nihon Ad Systems', 'TV Tokyo Mus...</td>\n",
       "      <td>['Studio Gallop']</td>\n",
       "      <td>Sena is like any other shy kid starting high s...</td>\n",
       "    </tr>\n",
       "  </tbody>\n",
       "</table>\n",
       "</div>"
      ],
      "text/plain": [
       "   MAL_ID                           Name_x                     Japanese name  \\\n",
       "0       1                     Cowboy Bebop                         カウボーイビバップ   \n",
       "1       5  Cowboy Bebop: Tengoku no Tobira                    カウボーイビバップ 天国の扉   \n",
       "2       6                           Trigun                             トライガン   \n",
       "3       7               Witch Hunter Robin  Witch Hunter ROBIN (ウイッチハンターロビン)   \n",
       "5      15                     Eyeshield 21                          アイシールド21   \n",
       "\n",
       "    Type                                           Genres_x  \\\n",
       "0     TV    Action, Adventure, Comedy, Drama, Sci-Fi, Space   \n",
       "1  Movie              Action, Drama, Mystery, Sci-Fi, Space   \n",
       "2     TV  Action, Sci-Fi, Adventure, Comedy, Drama, Shounen   \n",
       "3     TV  Action, Mystery, Police, Supernatural, Drama, ...   \n",
       "5     TV                    Action, Sports, Comedy, Shounen   \n",
       "\n",
       "                                            Producer             Studio  \\\n",
       "0                                  ['Bandai Visual']        ['Sunrise']   \n",
       "1                       ['Sunrise', 'Bandai Visual']          ['Bones']   \n",
       "2                           ['Victor Entertainment']       ['Madhouse']   \n",
       "3                                  ['Bandai Visual']        ['Sunrise']   \n",
       "5  ['TV Tokyo', 'Nihon Ad Systems', 'TV Tokyo Mus...  ['Studio Gallop']   \n",
       "\n",
       "                                           sypnopsis  \n",
       "0  In the year 2071, humanity has colonized sever...  \n",
       "1  other day, another bounty—such is the life of ...  \n",
       "2  Vash the Stampede is the man with a $$60,000,0...  \n",
       "3  ches are individuals with special powers like ...  \n",
       "5  Sena is like any other shy kid starting high s...  "
      ]
     },
     "execution_count": 29,
     "metadata": {},
     "output_type": "execute_result"
    }
   ],
   "source": [
    "anime_data.head(5)"
   ]
  },
  {
   "cell_type": "code",
   "execution_count": 30,
   "id": "8c090113",
   "metadata": {},
   "outputs": [
    {
     "data": {
      "text/plain": [
       "TV         2497\n",
       "OVA         662\n",
       "Movie       558\n",
       "Special     481\n",
       "ONA         201\n",
       "Music        64\n",
       "Unknown       1\n",
       "Name: Type, dtype: int64"
      ]
     },
     "execution_count": 30,
     "metadata": {},
     "output_type": "execute_result"
    }
   ],
   "source": [
    "anime_data['Type'].value_counts()"
   ]
  },
  {
   "cell_type": "markdown",
   "id": "6b71bfa4",
   "metadata": {},
   "source": [
    "# Here, we don't need the types: Special,ONA,Music and Unknown. So, we can drop those rows"
   ]
  },
  {
   "cell_type": "code",
   "execution_count": 31,
   "id": "353dc984",
   "metadata": {},
   "outputs": [
    {
     "data": {
      "text/plain": [
       "(4464, 8)"
      ]
     },
     "execution_count": 31,
     "metadata": {},
     "output_type": "execute_result"
    }
   ],
   "source": [
    "anime_data.shape"
   ]
  },
  {
   "cell_type": "code",
   "execution_count": 32,
   "id": "1f880401",
   "metadata": {},
   "outputs": [],
   "source": [
    "anime_data = anime_data[anime_data.Type != 'Music']\n",
    "anime_data = anime_data[anime_data.Type != 'ONA']\n",
    "anime_data = anime_data[anime_data.Type != 'Special']\n",
    "anime_data = anime_data[anime_data.Type != 'Unknown']"
   ]
  },
  {
   "cell_type": "code",
   "execution_count": 33,
   "id": "35f033aa",
   "metadata": {},
   "outputs": [
    {
     "data": {
      "text/plain": [
       "(3717, 8)"
      ]
     },
     "execution_count": 33,
     "metadata": {},
     "output_type": "execute_result"
    }
   ],
   "source": [
    "anime_data.shape"
   ]
  },
  {
   "cell_type": "markdown",
   "id": "94ffbb31",
   "metadata": {},
   "source": [
    "# ii) Now, we need another feature called Voice Actors to make our recommendation system better, we can use web scraping to achieve the same"
   ]
  },
  {
   "cell_type": "code",
   "execution_count": 34,
   "id": "2f97f40e",
   "metadata": {},
   "outputs": [],
   "source": [
    "import requests\n",
    "import re\n",
    "import time\n",
    "from bs4 import BeautifulSoup\n",
    "def fetch_seiyuus(MAL_ID):\n",
    "    headers={'User-Agent':'Mozilla/5.0 (Windows NT 6.3; Win 64 ; x64) Apple WeKit /537.36(KHTML , like Gecko) Chrome/80.0.3987.162 Safari/537.36'}\n",
    "    url = f'https://myanimelist.net/anime/{MAL_ID}'\n",
    "    time.sleep(5)\n",
    "    webpage=requests.get(url,headers=headers).text\n",
    "    soup = BeautifulSoup(webpage,'lxml')\n",
    "    seiyuu_elements = soup.find_all(\"a\", {\"href\":re.compile(\"https://myanimelist.net/people\")})\n",
    "    seiyuus = []\n",
    "    cnt = 0\n",
    "    for i in seiyuu_elements:\n",
    "        if(cnt%2!=0 and cnt!=0):\n",
    "            seiyuus.append(i.text.replace(\",\", \"\").replace(\" \", \"\"))\n",
    "        cnt+=1\n",
    "    cnt = 0\n",
    "    cnt = seiyuus.count('\\n\\n')\n",
    "    for i in range(cnt):\n",
    "        seiyuus.remove('\\n\\n')\n",
    "    return seiyuus"
   ]
  },
  {
   "cell_type": "code",
   "execution_count": 35,
   "id": "94fbf403",
   "metadata": {},
   "outputs": [],
   "source": [
    "# anime_data['Voice Actors'] = anime_data['MAL_ID'].map(lambda x: fetch_seiyuus(x)) \n",
    "# anime_data.to_csv('VAs.csv')"
   ]
  },
  {
   "cell_type": "code",
   "execution_count": 36,
   "id": "93b4c10d",
   "metadata": {},
   "outputs": [],
   "source": [
    "anime = pd.read_csv('VAs.csv')"
   ]
  },
  {
   "cell_type": "code",
   "execution_count": 37,
   "id": "7c0e5b5b",
   "metadata": {},
   "outputs": [
    {
     "data": {
      "text/html": [
       "<div>\n",
       "<style scoped>\n",
       "    .dataframe tbody tr th:only-of-type {\n",
       "        vertical-align: middle;\n",
       "    }\n",
       "\n",
       "    .dataframe tbody tr th {\n",
       "        vertical-align: top;\n",
       "    }\n",
       "\n",
       "    .dataframe thead th {\n",
       "        text-align: right;\n",
       "    }\n",
       "</style>\n",
       "<table border=\"1\" class=\"dataframe\">\n",
       "  <thead>\n",
       "    <tr style=\"text-align: right;\">\n",
       "      <th></th>\n",
       "      <th>Unnamed: 0</th>\n",
       "      <th>MAL_ID</th>\n",
       "      <th>Name_x</th>\n",
       "      <th>Japanese name</th>\n",
       "      <th>Type</th>\n",
       "      <th>Genres_x</th>\n",
       "      <th>Producer</th>\n",
       "      <th>Studio</th>\n",
       "      <th>sypnopsis</th>\n",
       "      <th>Voice Actors</th>\n",
       "    </tr>\n",
       "  </thead>\n",
       "  <tbody>\n",
       "    <tr>\n",
       "      <th>0</th>\n",
       "      <td>0</td>\n",
       "      <td>1</td>\n",
       "      <td>Cowboy Bebop</td>\n",
       "      <td>カウボーイビバップ</td>\n",
       "      <td>TV</td>\n",
       "      <td>Action, Adventure, Comedy, Drama, Sci-Fi, Space</td>\n",
       "      <td>['Bandai Visual']</td>\n",
       "      <td>['Sunrise']</td>\n",
       "      <td>In the year 2071, humanity has colonized sever...</td>\n",
       "      <td>['YamaderaKouichi', 'HayashibaraMegumi', 'Tada...</td>\n",
       "    </tr>\n",
       "    <tr>\n",
       "      <th>1</th>\n",
       "      <td>1</td>\n",
       "      <td>5</td>\n",
       "      <td>Cowboy Bebop: Tengoku no Tobira</td>\n",
       "      <td>カウボーイビバップ 天国の扉</td>\n",
       "      <td>Movie</td>\n",
       "      <td>Action, Drama, Mystery, Sci-Fi, Space</td>\n",
       "      <td>['Sunrise', 'Bandai Visual']</td>\n",
       "      <td>['Bones']</td>\n",
       "      <td>other day, another bounty—such is the life of ...</td>\n",
       "      <td>['YamaderaKouichi', 'HayashibaraMegumi', 'Tada...</td>\n",
       "    </tr>\n",
       "    <tr>\n",
       "      <th>2</th>\n",
       "      <td>2</td>\n",
       "      <td>6</td>\n",
       "      <td>Trigun</td>\n",
       "      <td>トライガン</td>\n",
       "      <td>TV</td>\n",
       "      <td>Action, Sci-Fi, Adventure, Comedy, Drama, Shounen</td>\n",
       "      <td>['Victor Entertainment']</td>\n",
       "      <td>['Madhouse']</td>\n",
       "      <td>Vash the Stampede is the man with a $$60,000,0...</td>\n",
       "      <td>['OnosakaMasaya', 'HayamiShow', 'YukinoSatsuki...</td>\n",
       "    </tr>\n",
       "    <tr>\n",
       "      <th>3</th>\n",
       "      <td>3</td>\n",
       "      <td>7</td>\n",
       "      <td>Witch Hunter Robin</td>\n",
       "      <td>Witch Hunter ROBIN (ウイッチハンターロビン)</td>\n",
       "      <td>TV</td>\n",
       "      <td>Action, Mystery, Police, Supernatural, Drama, ...</td>\n",
       "      <td>['Bandai Visual']</td>\n",
       "      <td>['Sunrise']</td>\n",
       "      <td>ches are individuals with special powers like ...</td>\n",
       "      <td>['WatanabeAkeno', 'TakewakaTakuma', 'YuukiHiro...</td>\n",
       "    </tr>\n",
       "    <tr>\n",
       "      <th>4</th>\n",
       "      <td>5</td>\n",
       "      <td>15</td>\n",
       "      <td>Eyeshield 21</td>\n",
       "      <td>アイシールド21</td>\n",
       "      <td>TV</td>\n",
       "      <td>Action, Sports, Comedy, Shounen</td>\n",
       "      <td>['TV Tokyo', 'Nihon Ad Systems', 'TV Tokyo Mus...</td>\n",
       "      <td>['Studio Gallop']</td>\n",
       "      <td>Sena is like any other shy kid starting high s...</td>\n",
       "      <td>['TamuraAtsushi', 'IrinoMiyu', 'NaganoKouichi'...</td>\n",
       "    </tr>\n",
       "  </tbody>\n",
       "</table>\n",
       "</div>"
      ],
      "text/plain": [
       "   Unnamed: 0  MAL_ID                           Name_x  \\\n",
       "0           0       1                     Cowboy Bebop   \n",
       "1           1       5  Cowboy Bebop: Tengoku no Tobira   \n",
       "2           2       6                           Trigun   \n",
       "3           3       7               Witch Hunter Robin   \n",
       "4           5      15                     Eyeshield 21   \n",
       "\n",
       "                      Japanese name   Type  \\\n",
       "0                         カウボーイビバップ     TV   \n",
       "1                    カウボーイビバップ 天国の扉  Movie   \n",
       "2                             トライガン     TV   \n",
       "3  Witch Hunter ROBIN (ウイッチハンターロビン)     TV   \n",
       "4                          アイシールド21     TV   \n",
       "\n",
       "                                            Genres_x  \\\n",
       "0    Action, Adventure, Comedy, Drama, Sci-Fi, Space   \n",
       "1              Action, Drama, Mystery, Sci-Fi, Space   \n",
       "2  Action, Sci-Fi, Adventure, Comedy, Drama, Shounen   \n",
       "3  Action, Mystery, Police, Supernatural, Drama, ...   \n",
       "4                    Action, Sports, Comedy, Shounen   \n",
       "\n",
       "                                            Producer             Studio  \\\n",
       "0                                  ['Bandai Visual']        ['Sunrise']   \n",
       "1                       ['Sunrise', 'Bandai Visual']          ['Bones']   \n",
       "2                           ['Victor Entertainment']       ['Madhouse']   \n",
       "3                                  ['Bandai Visual']        ['Sunrise']   \n",
       "4  ['TV Tokyo', 'Nihon Ad Systems', 'TV Tokyo Mus...  ['Studio Gallop']   \n",
       "\n",
       "                                           sypnopsis  \\\n",
       "0  In the year 2071, humanity has colonized sever...   \n",
       "1  other day, another bounty—such is the life of ...   \n",
       "2  Vash the Stampede is the man with a $$60,000,0...   \n",
       "3  ches are individuals with special powers like ...   \n",
       "4  Sena is like any other shy kid starting high s...   \n",
       "\n",
       "                                        Voice Actors  \n",
       "0  ['YamaderaKouichi', 'HayashibaraMegumi', 'Tada...  \n",
       "1  ['YamaderaKouichi', 'HayashibaraMegumi', 'Tada...  \n",
       "2  ['OnosakaMasaya', 'HayamiShow', 'YukinoSatsuki...  \n",
       "3  ['WatanabeAkeno', 'TakewakaTakuma', 'YuukiHiro...  \n",
       "4  ['TamuraAtsushi', 'IrinoMiyu', 'NaganoKouichi'...  "
      ]
     },
     "execution_count": 37,
     "metadata": {},
     "output_type": "execute_result"
    }
   ],
   "source": [
    "anime.head(5)"
   ]
  },
  {
   "cell_type": "code",
   "execution_count": 38,
   "id": "233d1520",
   "metadata": {},
   "outputs": [
    {
     "data": {
      "text/html": [
       "<div>\n",
       "<style scoped>\n",
       "    .dataframe tbody tr th:only-of-type {\n",
       "        vertical-align: middle;\n",
       "    }\n",
       "\n",
       "    .dataframe tbody tr th {\n",
       "        vertical-align: top;\n",
       "    }\n",
       "\n",
       "    .dataframe thead th {\n",
       "        text-align: right;\n",
       "    }\n",
       "</style>\n",
       "<table border=\"1\" class=\"dataframe\">\n",
       "  <thead>\n",
       "    <tr style=\"text-align: right;\">\n",
       "      <th></th>\n",
       "      <th>MAL_ID</th>\n",
       "      <th>Name_x</th>\n",
       "      <th>Japanese name</th>\n",
       "      <th>Type</th>\n",
       "      <th>Genres_x</th>\n",
       "      <th>Producer</th>\n",
       "      <th>Studio</th>\n",
       "      <th>sypnopsis</th>\n",
       "      <th>Voice Actors</th>\n",
       "    </tr>\n",
       "  </thead>\n",
       "  <tbody>\n",
       "    <tr>\n",
       "      <th>0</th>\n",
       "      <td>1</td>\n",
       "      <td>Cowboy Bebop</td>\n",
       "      <td>カウボーイビバップ</td>\n",
       "      <td>TV</td>\n",
       "      <td>Action, Adventure, Comedy, Drama, Sci-Fi, Space</td>\n",
       "      <td>['Bandai Visual']</td>\n",
       "      <td>['Sunrise']</td>\n",
       "      <td>In the year 2071, humanity has colonized sever...</td>\n",
       "      <td>['YamaderaKouichi', 'HayashibaraMegumi', 'Tada...</td>\n",
       "    </tr>\n",
       "    <tr>\n",
       "      <th>1</th>\n",
       "      <td>5</td>\n",
       "      <td>Cowboy Bebop: Tengoku no Tobira</td>\n",
       "      <td>カウボーイビバップ 天国の扉</td>\n",
       "      <td>Movie</td>\n",
       "      <td>Action, Drama, Mystery, Sci-Fi, Space</td>\n",
       "      <td>['Sunrise', 'Bandai Visual']</td>\n",
       "      <td>['Bones']</td>\n",
       "      <td>other day, another bounty—such is the life of ...</td>\n",
       "      <td>['YamaderaKouichi', 'HayashibaraMegumi', 'Tada...</td>\n",
       "    </tr>\n",
       "    <tr>\n",
       "      <th>2</th>\n",
       "      <td>6</td>\n",
       "      <td>Trigun</td>\n",
       "      <td>トライガン</td>\n",
       "      <td>TV</td>\n",
       "      <td>Action, Sci-Fi, Adventure, Comedy, Drama, Shounen</td>\n",
       "      <td>['Victor Entertainment']</td>\n",
       "      <td>['Madhouse']</td>\n",
       "      <td>Vash the Stampede is the man with a $$60,000,0...</td>\n",
       "      <td>['OnosakaMasaya', 'HayamiShow', 'YukinoSatsuki...</td>\n",
       "    </tr>\n",
       "    <tr>\n",
       "      <th>3</th>\n",
       "      <td>7</td>\n",
       "      <td>Witch Hunter Robin</td>\n",
       "      <td>Witch Hunter ROBIN (ウイッチハンターロビン)</td>\n",
       "      <td>TV</td>\n",
       "      <td>Action, Mystery, Police, Supernatural, Drama, ...</td>\n",
       "      <td>['Bandai Visual']</td>\n",
       "      <td>['Sunrise']</td>\n",
       "      <td>ches are individuals with special powers like ...</td>\n",
       "      <td>['WatanabeAkeno', 'TakewakaTakuma', 'YuukiHiro...</td>\n",
       "    </tr>\n",
       "    <tr>\n",
       "      <th>4</th>\n",
       "      <td>15</td>\n",
       "      <td>Eyeshield 21</td>\n",
       "      <td>アイシールド21</td>\n",
       "      <td>TV</td>\n",
       "      <td>Action, Sports, Comedy, Shounen</td>\n",
       "      <td>['TV Tokyo', 'Nihon Ad Systems', 'TV Tokyo Mus...</td>\n",
       "      <td>['Studio Gallop']</td>\n",
       "      <td>Sena is like any other shy kid starting high s...</td>\n",
       "      <td>['TamuraAtsushi', 'IrinoMiyu', 'NaganoKouichi'...</td>\n",
       "    </tr>\n",
       "    <tr>\n",
       "      <th>...</th>\n",
       "      <td>...</td>\n",
       "      <td>...</td>\n",
       "      <td>...</td>\n",
       "      <td>...</td>\n",
       "      <td>...</td>\n",
       "      <td>...</td>\n",
       "      <td>...</td>\n",
       "      <td>...</td>\n",
       "      <td>...</td>\n",
       "    </tr>\n",
       "    <tr>\n",
       "      <th>3712</th>\n",
       "      <td>39031</td>\n",
       "      <td>B Rappers Street</td>\n",
       "      <td>Bラッパーズ ストリート</td>\n",
       "      <td>TV</td>\n",
       "      <td>Music, Comedy</td>\n",
       "      <td>['Sony Music Communications', 'Sony Music Ente...</td>\n",
       "      <td>['Pie in the sky']</td>\n",
       "      <td>multimedia project collaboration between Shoga...</td>\n",
       "      <td>['KimuraSubaru', 'HondoKaede', 'NakashimaTakuy...</td>\n",
       "    </tr>\n",
       "    <tr>\n",
       "      <th>3713</th>\n",
       "      <td>39175</td>\n",
       "      <td>Cider no You ni Kotoba ga Wakiagaru</td>\n",
       "      <td>サイダーのように言葉が湧き上がる</td>\n",
       "      <td>Movie</td>\n",
       "      <td>Music</td>\n",
       "      <td>['flying DOG']</td>\n",
       "      <td>['Signal.MD', 'Sublimation']</td>\n",
       "      <td>The visual features the tagline, \"I met you in...</td>\n",
       "      <td>['IchikawaSomegorou', 'SugisakiHana', 'Nakajim...</td>\n",
       "    </tr>\n",
       "    <tr>\n",
       "      <th>3714</th>\n",
       "      <td>39456</td>\n",
       "      <td>Sounan Desu ka?</td>\n",
       "      <td>ソウナンですか?</td>\n",
       "      <td>TV</td>\n",
       "      <td>Adventure, Comedy, Seinen</td>\n",
       "      <td>['Nihon Ad Systems']</td>\n",
       "      <td>['Ezόla']</td>\n",
       "      <td>fter a school trip goes terribly wrong, Homare...</td>\n",
       "      <td>['IchimichiMao', 'YasunoKiyono', 'KounoHiyori'...</td>\n",
       "    </tr>\n",
       "    <tr>\n",
       "      <th>3715</th>\n",
       "      <td>39527</td>\n",
       "      <td>Try Knights</td>\n",
       "      <td>トライナイツ</td>\n",
       "      <td>TV</td>\n",
       "      <td>Sports, School, Josei</td>\n",
       "      <td>['Nippon Television Network']</td>\n",
       "      <td>['Gonzo']</td>\n",
       "      <td>ku Haruma enters high school without a future ...</td>\n",
       "      <td>['SakamotoShougo', 'SatouTakuya', 'KENN', 'Mor...</td>\n",
       "    </tr>\n",
       "    <tr>\n",
       "      <th>3716</th>\n",
       "      <td>39938</td>\n",
       "      <td>Inu-Ou</td>\n",
       "      <td>犬王</td>\n",
       "      <td>Movie</td>\n",
       "      <td>Fantasy, Historical, Music</td>\n",
       "      <td>['Asmik Ace']</td>\n",
       "      <td>['Science SARU']</td>\n",
       "      <td>Inu-Oh is born with unique physical characteri...</td>\n",
       "      <td>['Avu-chan', 'MoriyamaMirai']</td>\n",
       "    </tr>\n",
       "  </tbody>\n",
       "</table>\n",
       "<p>3717 rows × 9 columns</p>\n",
       "</div>"
      ],
      "text/plain": [
       "      MAL_ID                               Name_x  \\\n",
       "0          1                         Cowboy Bebop   \n",
       "1          5      Cowboy Bebop: Tengoku no Tobira   \n",
       "2          6                               Trigun   \n",
       "3          7                   Witch Hunter Robin   \n",
       "4         15                         Eyeshield 21   \n",
       "...      ...                                  ...   \n",
       "3712   39031                     B Rappers Street   \n",
       "3713   39175  Cider no You ni Kotoba ga Wakiagaru   \n",
       "3714   39456                      Sounan Desu ka?   \n",
       "3715   39527                          Try Knights   \n",
       "3716   39938                               Inu-Ou   \n",
       "\n",
       "                         Japanese name   Type  \\\n",
       "0                            カウボーイビバップ     TV   \n",
       "1                       カウボーイビバップ 天国の扉  Movie   \n",
       "2                                トライガン     TV   \n",
       "3     Witch Hunter ROBIN (ウイッチハンターロビン)     TV   \n",
       "4                             アイシールド21     TV   \n",
       "...                                ...    ...   \n",
       "3712                      Bラッパーズ ストリート     TV   \n",
       "3713                  サイダーのように言葉が湧き上がる  Movie   \n",
       "3714                          ソウナンですか?     TV   \n",
       "3715                            トライナイツ     TV   \n",
       "3716                                犬王  Movie   \n",
       "\n",
       "                                               Genres_x  \\\n",
       "0       Action, Adventure, Comedy, Drama, Sci-Fi, Space   \n",
       "1                 Action, Drama, Mystery, Sci-Fi, Space   \n",
       "2     Action, Sci-Fi, Adventure, Comedy, Drama, Shounen   \n",
       "3     Action, Mystery, Police, Supernatural, Drama, ...   \n",
       "4                       Action, Sports, Comedy, Shounen   \n",
       "...                                                 ...   \n",
       "3712                                      Music, Comedy   \n",
       "3713                                              Music   \n",
       "3714                          Adventure, Comedy, Seinen   \n",
       "3715                              Sports, School, Josei   \n",
       "3716                         Fantasy, Historical, Music   \n",
       "\n",
       "                                               Producer  \\\n",
       "0                                     ['Bandai Visual']   \n",
       "1                          ['Sunrise', 'Bandai Visual']   \n",
       "2                              ['Victor Entertainment']   \n",
       "3                                     ['Bandai Visual']   \n",
       "4     ['TV Tokyo', 'Nihon Ad Systems', 'TV Tokyo Mus...   \n",
       "...                                                 ...   \n",
       "3712  ['Sony Music Communications', 'Sony Music Ente...   \n",
       "3713                                     ['flying DOG']   \n",
       "3714                               ['Nihon Ad Systems']   \n",
       "3715                      ['Nippon Television Network']   \n",
       "3716                                      ['Asmik Ace']   \n",
       "\n",
       "                            Studio  \\\n",
       "0                      ['Sunrise']   \n",
       "1                        ['Bones']   \n",
       "2                     ['Madhouse']   \n",
       "3                      ['Sunrise']   \n",
       "4                ['Studio Gallop']   \n",
       "...                            ...   \n",
       "3712            ['Pie in the sky']   \n",
       "3713  ['Signal.MD', 'Sublimation']   \n",
       "3714                     ['Ezόla']   \n",
       "3715                     ['Gonzo']   \n",
       "3716              ['Science SARU']   \n",
       "\n",
       "                                              sypnopsis  \\\n",
       "0     In the year 2071, humanity has colonized sever...   \n",
       "1     other day, another bounty—such is the life of ...   \n",
       "2     Vash the Stampede is the man with a $$60,000,0...   \n",
       "3     ches are individuals with special powers like ...   \n",
       "4     Sena is like any other shy kid starting high s...   \n",
       "...                                                 ...   \n",
       "3712  multimedia project collaboration between Shoga...   \n",
       "3713  The visual features the tagline, \"I met you in...   \n",
       "3714  fter a school trip goes terribly wrong, Homare...   \n",
       "3715  ku Haruma enters high school without a future ...   \n",
       "3716  Inu-Oh is born with unique physical characteri...   \n",
       "\n",
       "                                           Voice Actors  \n",
       "0     ['YamaderaKouichi', 'HayashibaraMegumi', 'Tada...  \n",
       "1     ['YamaderaKouichi', 'HayashibaraMegumi', 'Tada...  \n",
       "2     ['OnosakaMasaya', 'HayamiShow', 'YukinoSatsuki...  \n",
       "3     ['WatanabeAkeno', 'TakewakaTakuma', 'YuukiHiro...  \n",
       "4     ['TamuraAtsushi', 'IrinoMiyu', 'NaganoKouichi'...  \n",
       "...                                                 ...  \n",
       "3712  ['KimuraSubaru', 'HondoKaede', 'NakashimaTakuy...  \n",
       "3713  ['IchikawaSomegorou', 'SugisakiHana', 'Nakajim...  \n",
       "3714  ['IchimichiMao', 'YasunoKiyono', 'KounoHiyori'...  \n",
       "3715  ['SakamotoShougo', 'SatouTakuya', 'KENN', 'Mor...  \n",
       "3716                      ['Avu-chan', 'MoriyamaMirai']  \n",
       "\n",
       "[3717 rows x 9 columns]"
      ]
     },
     "execution_count": 38,
     "metadata": {},
     "output_type": "execute_result"
    }
   ],
   "source": [
    "anime.drop(\"Unnamed: 0\",axis=1)"
   ]
  },
  {
   "cell_type": "code",
   "execution_count": 39,
   "id": "271f1c21",
   "metadata": {},
   "outputs": [],
   "source": [
    "anime = anime.rename(columns={'Voice Actors': 'voice_actors'})\n",
    "anime = anime[anime.voice_actors != '[]']"
   ]
  },
  {
   "cell_type": "code",
   "execution_count": 40,
   "id": "b2c98201",
   "metadata": {},
   "outputs": [
    {
     "data": {
      "text/plain": [
       "(3519, 10)"
      ]
     },
     "execution_count": 40,
     "metadata": {},
     "output_type": "execute_result"
    }
   ],
   "source": [
    "anime.shape"
   ]
  },
  {
   "cell_type": "code",
   "execution_count": 41,
   "id": "50ae5dbe",
   "metadata": {},
   "outputs": [
    {
     "data": {
      "text/html": [
       "<div>\n",
       "<style scoped>\n",
       "    .dataframe tbody tr th:only-of-type {\n",
       "        vertical-align: middle;\n",
       "    }\n",
       "\n",
       "    .dataframe tbody tr th {\n",
       "        vertical-align: top;\n",
       "    }\n",
       "\n",
       "    .dataframe thead th {\n",
       "        text-align: right;\n",
       "    }\n",
       "</style>\n",
       "<table border=\"1\" class=\"dataframe\">\n",
       "  <thead>\n",
       "    <tr style=\"text-align: right;\">\n",
       "      <th></th>\n",
       "      <th>Unnamed: 0</th>\n",
       "      <th>MAL_ID</th>\n",
       "      <th>Name_x</th>\n",
       "      <th>Japanese name</th>\n",
       "      <th>Type</th>\n",
       "      <th>Genres_x</th>\n",
       "      <th>Producer</th>\n",
       "      <th>Studio</th>\n",
       "      <th>sypnopsis</th>\n",
       "      <th>voice_actors</th>\n",
       "    </tr>\n",
       "  </thead>\n",
       "  <tbody>\n",
       "    <tr>\n",
       "      <th>335</th>\n",
       "      <td>439</td>\n",
       "      <td>467</td>\n",
       "      <td>Koukaku Kidoutai: Stand Alone Complex</td>\n",
       "      <td>攻殻機動隊 STAND ALONE COMPLEX</td>\n",
       "      <td>TV</td>\n",
       "      <td>Action, Military, Sci-Fi, Police, Mecha, Seinen</td>\n",
       "      <td>['Bandai Visual', 'Dentsu', 'Victor Entertainm...</td>\n",
       "      <td>['Production I.G']</td>\n",
       "      <td>In the not so distant future, mankind has adva...</td>\n",
       "      <td>['TanakaAtsuko', 'OotsukaAkio', 'YamaderaKouic...</td>\n",
       "    </tr>\n",
       "  </tbody>\n",
       "</table>\n",
       "</div>"
      ],
      "text/plain": [
       "     Unnamed: 0  MAL_ID                                 Name_x  \\\n",
       "335         439     467  Koukaku Kidoutai: Stand Alone Complex   \n",
       "\n",
       "                 Japanese name Type  \\\n",
       "335  攻殻機動隊 STAND ALONE COMPLEX   TV   \n",
       "\n",
       "                                            Genres_x  \\\n",
       "335  Action, Military, Sci-Fi, Police, Mecha, Seinen   \n",
       "\n",
       "                                              Producer              Studio  \\\n",
       "335  ['Bandai Visual', 'Dentsu', 'Victor Entertainm...  ['Production I.G']   \n",
       "\n",
       "                                             sypnopsis  \\\n",
       "335  In the not so distant future, mankind has adva...   \n",
       "\n",
       "                                          voice_actors  \n",
       "335  ['TanakaAtsuko', 'OotsukaAkio', 'YamaderaKouic...  "
      ]
     },
     "execution_count": 41,
     "metadata": {},
     "output_type": "execute_result"
    }
   ],
   "source": [
    "anime.sample(1)"
   ]
  },
  {
   "cell_type": "code",
   "execution_count": 42,
   "id": "1a521102",
   "metadata": {},
   "outputs": [],
   "source": [
    "anime = anime.drop(\"Unnamed: 0\",axis=1)"
   ]
  },
  {
   "cell_type": "code",
   "execution_count": 43,
   "id": "41d7ee88",
   "metadata": {},
   "outputs": [
    {
     "data": {
      "text/html": [
       "<div>\n",
       "<style scoped>\n",
       "    .dataframe tbody tr th:only-of-type {\n",
       "        vertical-align: middle;\n",
       "    }\n",
       "\n",
       "    .dataframe tbody tr th {\n",
       "        vertical-align: top;\n",
       "    }\n",
       "\n",
       "    .dataframe thead th {\n",
       "        text-align: right;\n",
       "    }\n",
       "</style>\n",
       "<table border=\"1\" class=\"dataframe\">\n",
       "  <thead>\n",
       "    <tr style=\"text-align: right;\">\n",
       "      <th></th>\n",
       "      <th>MAL_ID</th>\n",
       "      <th>Name_x</th>\n",
       "      <th>Japanese name</th>\n",
       "      <th>Type</th>\n",
       "      <th>Genres_x</th>\n",
       "      <th>Producer</th>\n",
       "      <th>Studio</th>\n",
       "      <th>sypnopsis</th>\n",
       "      <th>voice_actors</th>\n",
       "    </tr>\n",
       "  </thead>\n",
       "  <tbody>\n",
       "    <tr>\n",
       "      <th>0</th>\n",
       "      <td>1</td>\n",
       "      <td>Cowboy Bebop</td>\n",
       "      <td>カウボーイビバップ</td>\n",
       "      <td>TV</td>\n",
       "      <td>Action, Adventure, Comedy, Drama, Sci-Fi, Space</td>\n",
       "      <td>['Bandai Visual']</td>\n",
       "      <td>['Sunrise']</td>\n",
       "      <td>In the year 2071, humanity has colonized sever...</td>\n",
       "      <td>['YamaderaKouichi', 'HayashibaraMegumi', 'Tada...</td>\n",
       "    </tr>\n",
       "    <tr>\n",
       "      <th>1</th>\n",
       "      <td>5</td>\n",
       "      <td>Cowboy Bebop: Tengoku no Tobira</td>\n",
       "      <td>カウボーイビバップ 天国の扉</td>\n",
       "      <td>Movie</td>\n",
       "      <td>Action, Drama, Mystery, Sci-Fi, Space</td>\n",
       "      <td>['Sunrise', 'Bandai Visual']</td>\n",
       "      <td>['Bones']</td>\n",
       "      <td>other day, another bounty—such is the life of ...</td>\n",
       "      <td>['YamaderaKouichi', 'HayashibaraMegumi', 'Tada...</td>\n",
       "    </tr>\n",
       "    <tr>\n",
       "      <th>2</th>\n",
       "      <td>6</td>\n",
       "      <td>Trigun</td>\n",
       "      <td>トライガン</td>\n",
       "      <td>TV</td>\n",
       "      <td>Action, Sci-Fi, Adventure, Comedy, Drama, Shounen</td>\n",
       "      <td>['Victor Entertainment']</td>\n",
       "      <td>['Madhouse']</td>\n",
       "      <td>Vash the Stampede is the man with a $$60,000,0...</td>\n",
       "      <td>['OnosakaMasaya', 'HayamiShow', 'YukinoSatsuki...</td>\n",
       "    </tr>\n",
       "    <tr>\n",
       "      <th>3</th>\n",
       "      <td>7</td>\n",
       "      <td>Witch Hunter Robin</td>\n",
       "      <td>Witch Hunter ROBIN (ウイッチハンターロビン)</td>\n",
       "      <td>TV</td>\n",
       "      <td>Action, Mystery, Police, Supernatural, Drama, ...</td>\n",
       "      <td>['Bandai Visual']</td>\n",
       "      <td>['Sunrise']</td>\n",
       "      <td>ches are individuals with special powers like ...</td>\n",
       "      <td>['WatanabeAkeno', 'TakewakaTakuma', 'YuukiHiro...</td>\n",
       "    </tr>\n",
       "    <tr>\n",
       "      <th>4</th>\n",
       "      <td>15</td>\n",
       "      <td>Eyeshield 21</td>\n",
       "      <td>アイシールド21</td>\n",
       "      <td>TV</td>\n",
       "      <td>Action, Sports, Comedy, Shounen</td>\n",
       "      <td>['TV Tokyo', 'Nihon Ad Systems', 'TV Tokyo Mus...</td>\n",
       "      <td>['Studio Gallop']</td>\n",
       "      <td>Sena is like any other shy kid starting high s...</td>\n",
       "      <td>['TamuraAtsushi', 'IrinoMiyu', 'NaganoKouichi'...</td>\n",
       "    </tr>\n",
       "    <tr>\n",
       "      <th>...</th>\n",
       "      <td>...</td>\n",
       "      <td>...</td>\n",
       "      <td>...</td>\n",
       "      <td>...</td>\n",
       "      <td>...</td>\n",
       "      <td>...</td>\n",
       "      <td>...</td>\n",
       "      <td>...</td>\n",
       "      <td>...</td>\n",
       "    </tr>\n",
       "    <tr>\n",
       "      <th>3712</th>\n",
       "      <td>39031</td>\n",
       "      <td>B Rappers Street</td>\n",
       "      <td>Bラッパーズ ストリート</td>\n",
       "      <td>TV</td>\n",
       "      <td>Music, Comedy</td>\n",
       "      <td>['Sony Music Communications', 'Sony Music Ente...</td>\n",
       "      <td>['Pie in the sky']</td>\n",
       "      <td>multimedia project collaboration between Shoga...</td>\n",
       "      <td>['KimuraSubaru', 'HondoKaede', 'NakashimaTakuy...</td>\n",
       "    </tr>\n",
       "    <tr>\n",
       "      <th>3713</th>\n",
       "      <td>39175</td>\n",
       "      <td>Cider no You ni Kotoba ga Wakiagaru</td>\n",
       "      <td>サイダーのように言葉が湧き上がる</td>\n",
       "      <td>Movie</td>\n",
       "      <td>Music</td>\n",
       "      <td>['flying DOG']</td>\n",
       "      <td>['Signal.MD', 'Sublimation']</td>\n",
       "      <td>The visual features the tagline, \"I met you in...</td>\n",
       "      <td>['IchikawaSomegorou', 'SugisakiHana', 'Nakajim...</td>\n",
       "    </tr>\n",
       "    <tr>\n",
       "      <th>3714</th>\n",
       "      <td>39456</td>\n",
       "      <td>Sounan Desu ka?</td>\n",
       "      <td>ソウナンですか?</td>\n",
       "      <td>TV</td>\n",
       "      <td>Adventure, Comedy, Seinen</td>\n",
       "      <td>['Nihon Ad Systems']</td>\n",
       "      <td>['Ezόla']</td>\n",
       "      <td>fter a school trip goes terribly wrong, Homare...</td>\n",
       "      <td>['IchimichiMao', 'YasunoKiyono', 'KounoHiyori'...</td>\n",
       "    </tr>\n",
       "    <tr>\n",
       "      <th>3715</th>\n",
       "      <td>39527</td>\n",
       "      <td>Try Knights</td>\n",
       "      <td>トライナイツ</td>\n",
       "      <td>TV</td>\n",
       "      <td>Sports, School, Josei</td>\n",
       "      <td>['Nippon Television Network']</td>\n",
       "      <td>['Gonzo']</td>\n",
       "      <td>ku Haruma enters high school without a future ...</td>\n",
       "      <td>['SakamotoShougo', 'SatouTakuya', 'KENN', 'Mor...</td>\n",
       "    </tr>\n",
       "    <tr>\n",
       "      <th>3716</th>\n",
       "      <td>39938</td>\n",
       "      <td>Inu-Ou</td>\n",
       "      <td>犬王</td>\n",
       "      <td>Movie</td>\n",
       "      <td>Fantasy, Historical, Music</td>\n",
       "      <td>['Asmik Ace']</td>\n",
       "      <td>['Science SARU']</td>\n",
       "      <td>Inu-Oh is born with unique physical characteri...</td>\n",
       "      <td>['Avu-chan', 'MoriyamaMirai']</td>\n",
       "    </tr>\n",
       "  </tbody>\n",
       "</table>\n",
       "<p>3519 rows × 9 columns</p>\n",
       "</div>"
      ],
      "text/plain": [
       "      MAL_ID                               Name_x  \\\n",
       "0          1                         Cowboy Bebop   \n",
       "1          5      Cowboy Bebop: Tengoku no Tobira   \n",
       "2          6                               Trigun   \n",
       "3          7                   Witch Hunter Robin   \n",
       "4         15                         Eyeshield 21   \n",
       "...      ...                                  ...   \n",
       "3712   39031                     B Rappers Street   \n",
       "3713   39175  Cider no You ni Kotoba ga Wakiagaru   \n",
       "3714   39456                      Sounan Desu ka?   \n",
       "3715   39527                          Try Knights   \n",
       "3716   39938                               Inu-Ou   \n",
       "\n",
       "                         Japanese name   Type  \\\n",
       "0                            カウボーイビバップ     TV   \n",
       "1                       カウボーイビバップ 天国の扉  Movie   \n",
       "2                                トライガン     TV   \n",
       "3     Witch Hunter ROBIN (ウイッチハンターロビン)     TV   \n",
       "4                             アイシールド21     TV   \n",
       "...                                ...    ...   \n",
       "3712                      Bラッパーズ ストリート     TV   \n",
       "3713                  サイダーのように言葉が湧き上がる  Movie   \n",
       "3714                          ソウナンですか?     TV   \n",
       "3715                            トライナイツ     TV   \n",
       "3716                                犬王  Movie   \n",
       "\n",
       "                                               Genres_x  \\\n",
       "0       Action, Adventure, Comedy, Drama, Sci-Fi, Space   \n",
       "1                 Action, Drama, Mystery, Sci-Fi, Space   \n",
       "2     Action, Sci-Fi, Adventure, Comedy, Drama, Shounen   \n",
       "3     Action, Mystery, Police, Supernatural, Drama, ...   \n",
       "4                       Action, Sports, Comedy, Shounen   \n",
       "...                                                 ...   \n",
       "3712                                      Music, Comedy   \n",
       "3713                                              Music   \n",
       "3714                          Adventure, Comedy, Seinen   \n",
       "3715                              Sports, School, Josei   \n",
       "3716                         Fantasy, Historical, Music   \n",
       "\n",
       "                                               Producer  \\\n",
       "0                                     ['Bandai Visual']   \n",
       "1                          ['Sunrise', 'Bandai Visual']   \n",
       "2                              ['Victor Entertainment']   \n",
       "3                                     ['Bandai Visual']   \n",
       "4     ['TV Tokyo', 'Nihon Ad Systems', 'TV Tokyo Mus...   \n",
       "...                                                 ...   \n",
       "3712  ['Sony Music Communications', 'Sony Music Ente...   \n",
       "3713                                     ['flying DOG']   \n",
       "3714                               ['Nihon Ad Systems']   \n",
       "3715                      ['Nippon Television Network']   \n",
       "3716                                      ['Asmik Ace']   \n",
       "\n",
       "                            Studio  \\\n",
       "0                      ['Sunrise']   \n",
       "1                        ['Bones']   \n",
       "2                     ['Madhouse']   \n",
       "3                      ['Sunrise']   \n",
       "4                ['Studio Gallop']   \n",
       "...                            ...   \n",
       "3712            ['Pie in the sky']   \n",
       "3713  ['Signal.MD', 'Sublimation']   \n",
       "3714                     ['Ezόla']   \n",
       "3715                     ['Gonzo']   \n",
       "3716              ['Science SARU']   \n",
       "\n",
       "                                              sypnopsis  \\\n",
       "0     In the year 2071, humanity has colonized sever...   \n",
       "1     other day, another bounty—such is the life of ...   \n",
       "2     Vash the Stampede is the man with a $$60,000,0...   \n",
       "3     ches are individuals with special powers like ...   \n",
       "4     Sena is like any other shy kid starting high s...   \n",
       "...                                                 ...   \n",
       "3712  multimedia project collaboration between Shoga...   \n",
       "3713  The visual features the tagline, \"I met you in...   \n",
       "3714  fter a school trip goes terribly wrong, Homare...   \n",
       "3715  ku Haruma enters high school without a future ...   \n",
       "3716  Inu-Oh is born with unique physical characteri...   \n",
       "\n",
       "                                           voice_actors  \n",
       "0     ['YamaderaKouichi', 'HayashibaraMegumi', 'Tada...  \n",
       "1     ['YamaderaKouichi', 'HayashibaraMegumi', 'Tada...  \n",
       "2     ['OnosakaMasaya', 'HayamiShow', 'YukinoSatsuki...  \n",
       "3     ['WatanabeAkeno', 'TakewakaTakuma', 'YuukiHiro...  \n",
       "4     ['TamuraAtsushi', 'IrinoMiyu', 'NaganoKouichi'...  \n",
       "...                                                 ...  \n",
       "3712  ['KimuraSubaru', 'HondoKaede', 'NakashimaTakuy...  \n",
       "3713  ['IchikawaSomegorou', 'SugisakiHana', 'Nakajim...  \n",
       "3714  ['IchimichiMao', 'YasunoKiyono', 'KounoHiyori'...  \n",
       "3715  ['SakamotoShougo', 'SatouTakuya', 'KENN', 'Mor...  \n",
       "3716                      ['Avu-chan', 'MoriyamaMirai']  \n",
       "\n",
       "[3519 rows x 9 columns]"
      ]
     },
     "execution_count": 43,
     "metadata": {},
     "output_type": "execute_result"
    }
   ],
   "source": [
    "anime"
   ]
  },
  {
   "cell_type": "code",
   "execution_count": 44,
   "id": "75fed0aa",
   "metadata": {},
   "outputs": [
    {
     "data": {
      "text/html": [
       "<div>\n",
       "<style scoped>\n",
       "    .dataframe tbody tr th:only-of-type {\n",
       "        vertical-align: middle;\n",
       "    }\n",
       "\n",
       "    .dataframe tbody tr th {\n",
       "        vertical-align: top;\n",
       "    }\n",
       "\n",
       "    .dataframe thead th {\n",
       "        text-align: right;\n",
       "    }\n",
       "</style>\n",
       "<table border=\"1\" class=\"dataframe\">\n",
       "  <thead>\n",
       "    <tr style=\"text-align: right;\">\n",
       "      <th></th>\n",
       "      <th>MAL_ID</th>\n",
       "      <th>Name_x</th>\n",
       "      <th>Japanese name</th>\n",
       "      <th>Type</th>\n",
       "      <th>Genres_x</th>\n",
       "      <th>Producer</th>\n",
       "      <th>Studio</th>\n",
       "      <th>sypnopsis</th>\n",
       "      <th>voice_actors</th>\n",
       "    </tr>\n",
       "  </thead>\n",
       "  <tbody>\n",
       "    <tr>\n",
       "      <th>695</th>\n",
       "      <td>1224</td>\n",
       "      <td>Aquarian Age: Sign for Evolution</td>\n",
       "      <td>アクエリアンエイジ Sign for Evolution</td>\n",
       "      <td>TV</td>\n",
       "      <td>Action, Sci-Fi, Adventure, Music, Super Power,...</td>\n",
       "      <td>['Broccoli']</td>\n",
       "      <td>['Madhouse']</td>\n",
       "      <td>Five supernatural factions have been fighting ...</td>\n",
       "      <td>['TanakaNobuyuki', 'AokiMayuko', 'NishimuraChi...</td>\n",
       "    </tr>\n",
       "  </tbody>\n",
       "</table>\n",
       "</div>"
      ],
      "text/plain": [
       "     MAL_ID                            Name_x                 Japanese name  \\\n",
       "695    1224  Aquarian Age: Sign for Evolution  アクエリアンエイジ Sign for Evolution   \n",
       "\n",
       "    Type                                           Genres_x      Producer  \\\n",
       "695   TV  Action, Sci-Fi, Adventure, Music, Super Power,...  ['Broccoli']   \n",
       "\n",
       "           Studio                                          sypnopsis  \\\n",
       "695  ['Madhouse']  Five supernatural factions have been fighting ...   \n",
       "\n",
       "                                          voice_actors  \n",
       "695  ['TanakaNobuyuki', 'AokiMayuko', 'NishimuraChi...  "
      ]
     },
     "execution_count": 44,
     "metadata": {},
     "output_type": "execute_result"
    }
   ],
   "source": [
    "anime.sample(1)"
   ]
  },
  {
   "cell_type": "code",
   "execution_count": 45,
   "id": "d005c0b7",
   "metadata": {},
   "outputs": [
    {
     "data": {
      "text/plain": [
       "(3519, 9)"
      ]
     },
     "execution_count": 45,
     "metadata": {},
     "output_type": "execute_result"
    }
   ],
   "source": [
    "anime.shape"
   ]
  },
  {
   "cell_type": "code",
   "execution_count": 46,
   "id": "59a50d55",
   "metadata": {},
   "outputs": [],
   "source": [
    "def extract_features(obj):\n",
    "    li_of_features = []\n",
    "    li_of_features.append(obj)\n",
    "    return li_of_features\n",
    "anime['Type'] = anime['Type'].apply(extract_features)"
   ]
  },
  {
   "cell_type": "code",
   "execution_count": 47,
   "id": "19ff5b9a",
   "metadata": {},
   "outputs": [
    {
     "data": {
      "text/html": [
       "<div>\n",
       "<style scoped>\n",
       "    .dataframe tbody tr th:only-of-type {\n",
       "        vertical-align: middle;\n",
       "    }\n",
       "\n",
       "    .dataframe tbody tr th {\n",
       "        vertical-align: top;\n",
       "    }\n",
       "\n",
       "    .dataframe thead th {\n",
       "        text-align: right;\n",
       "    }\n",
       "</style>\n",
       "<table border=\"1\" class=\"dataframe\">\n",
       "  <thead>\n",
       "    <tr style=\"text-align: right;\">\n",
       "      <th></th>\n",
       "      <th>MAL_ID</th>\n",
       "      <th>Name_x</th>\n",
       "      <th>Japanese name</th>\n",
       "      <th>Type</th>\n",
       "      <th>Genres_x</th>\n",
       "      <th>Producer</th>\n",
       "      <th>Studio</th>\n",
       "      <th>sypnopsis</th>\n",
       "      <th>voice_actors</th>\n",
       "    </tr>\n",
       "  </thead>\n",
       "  <tbody>\n",
       "    <tr>\n",
       "      <th>1369</th>\n",
       "      <td>3095</td>\n",
       "      <td>Sono Kinisasete yo: My My Mai</td>\n",
       "      <td>その気にさせてよ myマイ舞</td>\n",
       "      <td>[OVA]</td>\n",
       "      <td>Ecchi, Comedy, Supernatural</td>\n",
       "      <td>['AC Create']</td>\n",
       "      <td>['J.C.Staff']</td>\n",
       "      <td>ai's a super counselor with blazing sex appeal...</td>\n",
       "      <td>['YajimaAkiko', 'MitsuishiKotono']</td>\n",
       "    </tr>\n",
       "  </tbody>\n",
       "</table>\n",
       "</div>"
      ],
      "text/plain": [
       "      MAL_ID                         Name_x   Japanese name   Type  \\\n",
       "1369    3095  Sono Kinisasete yo: My My Mai  その気にさせてよ myマイ舞  [OVA]   \n",
       "\n",
       "                         Genres_x       Producer         Studio  \\\n",
       "1369  Ecchi, Comedy, Supernatural  ['AC Create']  ['J.C.Staff']   \n",
       "\n",
       "                                              sypnopsis  \\\n",
       "1369  ai's a super counselor with blazing sex appeal...   \n",
       "\n",
       "                            voice_actors  \n",
       "1369  ['YajimaAkiko', 'MitsuishiKotono']  "
      ]
     },
     "execution_count": 47,
     "metadata": {},
     "output_type": "execute_result"
    }
   ],
   "source": [
    "anime.sample(1)"
   ]
  },
  {
   "cell_type": "markdown",
   "id": "0683f5d1",
   "metadata": {},
   "source": [
    "# iii) Let's deal with the 'Name_x' and 'Japanese names' column. We'll combine them into a single column"
   ]
  },
  {
   "cell_type": "code",
   "execution_count": 48,
   "id": "41433e9e",
   "metadata": {},
   "outputs": [
    {
     "data": {
      "text/plain": [
       "Index(['MAL_ID', 'Name_x', 'Japanese name', 'Type', 'Genres_x', 'Producer',\n",
       "       'Studio', 'sypnopsis', 'voice_actors'],\n",
       "      dtype='object')"
      ]
     },
     "execution_count": 48,
     "metadata": {},
     "output_type": "execute_result"
    }
   ],
   "source": [
    "anime.columns"
   ]
  },
  {
   "cell_type": "code",
   "execution_count": 49,
   "id": "edf298d0",
   "metadata": {},
   "outputs": [
    {
     "data": {
      "text/html": [
       "<div>\n",
       "<style scoped>\n",
       "    .dataframe tbody tr th:only-of-type {\n",
       "        vertical-align: middle;\n",
       "    }\n",
       "\n",
       "    .dataframe tbody tr th {\n",
       "        vertical-align: top;\n",
       "    }\n",
       "\n",
       "    .dataframe thead th {\n",
       "        text-align: right;\n",
       "    }\n",
       "</style>\n",
       "<table border=\"1\" class=\"dataframe\">\n",
       "  <thead>\n",
       "    <tr style=\"text-align: right;\">\n",
       "      <th></th>\n",
       "      <th>MAL_ID</th>\n",
       "      <th>Name</th>\n",
       "      <th>Type</th>\n",
       "      <th>Genres_x</th>\n",
       "      <th>Producer</th>\n",
       "      <th>Studio</th>\n",
       "      <th>sypnopsis</th>\n",
       "      <th>voice_actors</th>\n",
       "    </tr>\n",
       "  </thead>\n",
       "  <tbody>\n",
       "    <tr>\n",
       "      <th>0</th>\n",
       "      <td>1</td>\n",
       "      <td>Cowboy Bebopカウボーイビバップ</td>\n",
       "      <td>[TV]</td>\n",
       "      <td>Action, Adventure, Comedy, Drama, Sci-Fi, Space</td>\n",
       "      <td>['Bandai Visual']</td>\n",
       "      <td>['Sunrise']</td>\n",
       "      <td>In the year 2071, humanity has colonized sever...</td>\n",
       "      <td>['YamaderaKouichi', 'HayashibaraMegumi', 'Tada...</td>\n",
       "    </tr>\n",
       "  </tbody>\n",
       "</table>\n",
       "</div>"
      ],
      "text/plain": [
       "   MAL_ID                   Name  Type  \\\n",
       "0       1  Cowboy Bebopカウボーイビバップ  [TV]   \n",
       "\n",
       "                                          Genres_x           Producer  \\\n",
       "0  Action, Adventure, Comedy, Drama, Sci-Fi, Space  ['Bandai Visual']   \n",
       "\n",
       "        Studio                                          sypnopsis  \\\n",
       "0  ['Sunrise']  In the year 2071, humanity has colonized sever...   \n",
       "\n",
       "                                        voice_actors  \n",
       "0  ['YamaderaKouichi', 'HayashibaraMegumi', 'Tada...  "
      ]
     },
     "execution_count": 49,
     "metadata": {},
     "output_type": "execute_result"
    }
   ],
   "source": [
    "anime['Name'] = anime['Name_x']+anime['Japanese name']\n",
    "anime=anime[['MAL_ID','Name','Type','Genres_x','Producer','Studio','sypnopsis','voice_actors']]\n",
    "anime.head(1)"
   ]
  },
  {
   "cell_type": "markdown",
   "id": "cb39123e",
   "metadata": {},
   "source": [
    "# iv) Let's deal with Genres_x column"
   ]
  },
  {
   "cell_type": "code",
   "execution_count": 50,
   "id": "fc591108",
   "metadata": {},
   "outputs": [
    {
     "data": {
      "text/html": [
       "<div>\n",
       "<style scoped>\n",
       "    .dataframe tbody tr th:only-of-type {\n",
       "        vertical-align: middle;\n",
       "    }\n",
       "\n",
       "    .dataframe tbody tr th {\n",
       "        vertical-align: top;\n",
       "    }\n",
       "\n",
       "    .dataframe thead th {\n",
       "        text-align: right;\n",
       "    }\n",
       "</style>\n",
       "<table border=\"1\" class=\"dataframe\">\n",
       "  <thead>\n",
       "    <tr style=\"text-align: right;\">\n",
       "      <th></th>\n",
       "      <th>MAL_ID</th>\n",
       "      <th>Name</th>\n",
       "      <th>Type</th>\n",
       "      <th>Genres</th>\n",
       "      <th>Producer</th>\n",
       "      <th>Studio</th>\n",
       "      <th>Synopsis</th>\n",
       "      <th>voice_actors</th>\n",
       "    </tr>\n",
       "  </thead>\n",
       "  <tbody>\n",
       "    <tr>\n",
       "      <th>3332</th>\n",
       "      <td>33337</td>\n",
       "      <td>ACCA: 13-ku Kansatsu-kaACCA 13区監察課</td>\n",
       "      <td>[TV]</td>\n",
       "      <td>Mystery, Police, Drama, Fantasy, Seinen</td>\n",
       "      <td>['Bandai Visual', 'Square Enix', 'Lantis', 'Ni...</td>\n",
       "      <td>['Madhouse']</td>\n",
       "      <td>CCA—a national body of the kingdom of Dowa tha...</td>\n",
       "      <td>['ShimonoHiro', 'TsudaKenjirou', 'TanakaAtsuko...</td>\n",
       "    </tr>\n",
       "  </tbody>\n",
       "</table>\n",
       "</div>"
      ],
      "text/plain": [
       "      MAL_ID                                Name  Type  \\\n",
       "3332   33337  ACCA: 13-ku Kansatsu-kaACCA 13区監察課  [TV]   \n",
       "\n",
       "                                       Genres  \\\n",
       "3332  Mystery, Police, Drama, Fantasy, Seinen   \n",
       "\n",
       "                                               Producer        Studio  \\\n",
       "3332  ['Bandai Visual', 'Square Enix', 'Lantis', 'Ni...  ['Madhouse']   \n",
       "\n",
       "                                               Synopsis  \\\n",
       "3332  CCA—a national body of the kingdom of Dowa tha...   \n",
       "\n",
       "                                           voice_actors  \n",
       "3332  ['ShimonoHiro', 'TsudaKenjirou', 'TanakaAtsuko...  "
      ]
     },
     "execution_count": 50,
     "metadata": {},
     "output_type": "execute_result"
    }
   ],
   "source": [
    "anime = anime.rename(columns={'Genres_x': 'Genres','sypnopsis':'Synopsis'})\n",
    "anime.sample(1)"
   ]
  },
  {
   "cell_type": "code",
   "execution_count": 51,
   "id": "4395f863",
   "metadata": {},
   "outputs": [
    {
     "data": {
      "text/plain": [
       "dtype('O')"
      ]
     },
     "execution_count": 51,
     "metadata": {},
     "output_type": "execute_result"
    }
   ],
   "source": [
    "anime['Genres'].dtypes"
   ]
  },
  {
   "cell_type": "code",
   "execution_count": 52,
   "id": "a58967f9",
   "metadata": {},
   "outputs": [],
   "source": [
    "def extract_features_2(obj):\n",
    "    obj = obj.replace(\" \", \"\").split(\",\")\n",
    "    return obj\n",
    "anime['Genres']=anime['Genres'].apply(extract_features_2)\n"
   ]
  },
  {
   "cell_type": "code",
   "execution_count": 53,
   "id": "68489290",
   "metadata": {},
   "outputs": [
    {
     "data": {
      "text/html": [
       "<div>\n",
       "<style scoped>\n",
       "    .dataframe tbody tr th:only-of-type {\n",
       "        vertical-align: middle;\n",
       "    }\n",
       "\n",
       "    .dataframe tbody tr th {\n",
       "        vertical-align: top;\n",
       "    }\n",
       "\n",
       "    .dataframe thead th {\n",
       "        text-align: right;\n",
       "    }\n",
       "</style>\n",
       "<table border=\"1\" class=\"dataframe\">\n",
       "  <thead>\n",
       "    <tr style=\"text-align: right;\">\n",
       "      <th></th>\n",
       "      <th>MAL_ID</th>\n",
       "      <th>Name</th>\n",
       "      <th>Type</th>\n",
       "      <th>Genres</th>\n",
       "      <th>Producer</th>\n",
       "      <th>Studio</th>\n",
       "      <th>Synopsis</th>\n",
       "      <th>voice_actors</th>\n",
       "    </tr>\n",
       "  </thead>\n",
       "  <tbody>\n",
       "    <tr>\n",
       "      <th>746</th>\n",
       "      <td>1357</td>\n",
       "      <td>Shin Hokuto no Ken新・北斗の拳</td>\n",
       "      <td>[OVA]</td>\n",
       "      <td>[Action, MartialArts, Sci-Fi, Shounen]</td>\n",
       "      <td>['OB Planning', 'Kitty Films', 'Sega']</td>\n",
       "      <td>['A.C.G.T.']</td>\n",
       "      <td>In a post-apocalyptic Earth, the water has bec...</td>\n",
       "      <td>['KoyasuTakehito', 'TanakaHideyuki', 'GACKT', ...</td>\n",
       "    </tr>\n",
       "  </tbody>\n",
       "</table>\n",
       "</div>"
      ],
      "text/plain": [
       "     MAL_ID                      Name   Type  \\\n",
       "746    1357  Shin Hokuto no Ken新・北斗の拳  [OVA]   \n",
       "\n",
       "                                     Genres  \\\n",
       "746  [Action, MartialArts, Sci-Fi, Shounen]   \n",
       "\n",
       "                                   Producer        Studio  \\\n",
       "746  ['OB Planning', 'Kitty Films', 'Sega']  ['A.C.G.T.']   \n",
       "\n",
       "                                              Synopsis  \\\n",
       "746  In a post-apocalyptic Earth, the water has bec...   \n",
       "\n",
       "                                          voice_actors  \n",
       "746  ['KoyasuTakehito', 'TanakaHideyuki', 'GACKT', ...  "
      ]
     },
     "execution_count": 53,
     "metadata": {},
     "output_type": "execute_result"
    }
   ],
   "source": [
    "anime.sample(1)"
   ]
  },
  {
   "cell_type": "markdown",
   "id": "24aaef77",
   "metadata": {},
   "source": [
    "# v) Let's deal with Producer, Studio columns"
   ]
  },
  {
   "cell_type": "code",
   "execution_count": 54,
   "id": "47d55ac7",
   "metadata": {},
   "outputs": [
    {
     "data": {
      "text/plain": [
       "str"
      ]
     },
     "execution_count": 54,
     "metadata": {},
     "output_type": "execute_result"
    }
   ],
   "source": [
    "type(anime['Producer'][0])"
   ]
  },
  {
   "cell_type": "code",
   "execution_count": 55,
   "id": "92055a4b",
   "metadata": {},
   "outputs": [
    {
     "data": {
      "text/plain": [
       "list"
      ]
     },
     "execution_count": 55,
     "metadata": {},
     "output_type": "execute_result"
    }
   ],
   "source": [
    "type(anime['Genres'][0])"
   ]
  },
  {
   "cell_type": "code",
   "execution_count": 56,
   "id": "bdf20965",
   "metadata": {},
   "outputs": [
    {
     "data": {
      "text/plain": [
       "str"
      ]
     },
     "execution_count": 56,
     "metadata": {},
     "output_type": "execute_result"
    }
   ],
   "source": [
    "type(anime['voice_actors'][0])"
   ]
  },
  {
   "cell_type": "code",
   "execution_count": 57,
   "id": "dce323c0",
   "metadata": {},
   "outputs": [],
   "source": [
    "def extract_features_3(obj):\n",
    "    obj = obj.replace('[','').replace(']','').replace(\"'\",\"\").split(\",\")\n",
    "    return obj\n",
    "\n",
    "anime['Producer'] = anime['Producer'].apply(extract_features_3)\n",
    "anime['Studio'] = anime['Studio'].apply(extract_features_3)\n",
    "anime['voice_actors'] = anime['voice_actors'].apply(extract_features_3)"
   ]
  },
  {
   "cell_type": "code",
   "execution_count": 58,
   "id": "3394e88b",
   "metadata": {},
   "outputs": [
    {
     "data": {
      "text/html": [
       "<div>\n",
       "<style scoped>\n",
       "    .dataframe tbody tr th:only-of-type {\n",
       "        vertical-align: middle;\n",
       "    }\n",
       "\n",
       "    .dataframe tbody tr th {\n",
       "        vertical-align: top;\n",
       "    }\n",
       "\n",
       "    .dataframe thead th {\n",
       "        text-align: right;\n",
       "    }\n",
       "</style>\n",
       "<table border=\"1\" class=\"dataframe\">\n",
       "  <thead>\n",
       "    <tr style=\"text-align: right;\">\n",
       "      <th></th>\n",
       "      <th>MAL_ID</th>\n",
       "      <th>Name</th>\n",
       "      <th>Type</th>\n",
       "      <th>Genres</th>\n",
       "      <th>Producer</th>\n",
       "      <th>Studio</th>\n",
       "      <th>Synopsis</th>\n",
       "      <th>voice_actors</th>\n",
       "    </tr>\n",
       "  </thead>\n",
       "  <tbody>\n",
       "    <tr>\n",
       "      <th>2392</th>\n",
       "      <td>16782</td>\n",
       "      <td>Kotonoha no Niwa言の葉の庭</td>\n",
       "      <td>[Movie]</td>\n",
       "      <td>[SliceofLife, Psychological, Drama, Romance]</td>\n",
       "      <td>[The Answer Studio,  TOHO animation]</td>\n",
       "      <td>[CoMix Wave Films]</td>\n",
       "      <td>On a rainy morning in Tokyo, Takao Akizuki, an...</td>\n",
       "      <td>[HanazawaKana,  IrinoMiyu,  KomatsuMikako,  In...</td>\n",
       "    </tr>\n",
       "  </tbody>\n",
       "</table>\n",
       "</div>"
      ],
      "text/plain": [
       "      MAL_ID                   Name     Type  \\\n",
       "2392   16782  Kotonoha no Niwa言の葉の庭  [Movie]   \n",
       "\n",
       "                                            Genres  \\\n",
       "2392  [SliceofLife, Psychological, Drama, Romance]   \n",
       "\n",
       "                                  Producer              Studio  \\\n",
       "2392  [The Answer Studio,  TOHO animation]  [CoMix Wave Films]   \n",
       "\n",
       "                                               Synopsis  \\\n",
       "2392  On a rainy morning in Tokyo, Takao Akizuki, an...   \n",
       "\n",
       "                                           voice_actors  \n",
       "2392  [HanazawaKana,  IrinoMiyu,  KomatsuMikako,  In...  "
      ]
     },
     "execution_count": 58,
     "metadata": {},
     "output_type": "execute_result"
    }
   ],
   "source": [
    "anime.sample(1)"
   ]
  },
  {
   "cell_type": "markdown",
   "id": "5b34e270",
   "metadata": {},
   "source": [
    "# vi) Finally, let's deal with Synopsis column"
   ]
  },
  {
   "cell_type": "code",
   "execution_count": 59,
   "id": "167cee42",
   "metadata": {},
   "outputs": [
    {
     "data": {
      "text/plain": [
       "0       [In, the, year, 2071,, humanity, has, colonize...\n",
       "1       [other, day,, another, bounty—such, is, the, l...\n",
       "2       [Vash, the, Stampede, is, the, man, with, a, $...\n",
       "3       [ches, are, individuals, with, special, powers...\n",
       "4       [Sena, is, like, any, other, shy, kid, startin...\n",
       "                              ...                        \n",
       "3712    [multimedia, project, collaboration, between, ...\n",
       "3713    [The, visual, features, the, tagline,, \"I, met...\n",
       "3714    [fter, a, school, trip, goes, terribly, wrong,...\n",
       "3715    [ku, Haruma, enters, high, school, without, a,...\n",
       "3716    [Inu-Oh, is, born, with, unique, physical, cha...\n",
       "Name: Synopsis, Length: 3519, dtype: object"
      ]
     },
     "execution_count": 59,
     "metadata": {},
     "output_type": "execute_result"
    }
   ],
   "source": [
    "anime['Synopsis'].apply(lambda x: x.split())"
   ]
  },
  {
   "cell_type": "code",
   "execution_count": 60,
   "id": "349b8d0b",
   "metadata": {},
   "outputs": [],
   "source": [
    "anime['Synopsis']=anime['Synopsis'].apply(lambda x: x.split())"
   ]
  },
  {
   "cell_type": "code",
   "execution_count": 61,
   "id": "5f14e22b",
   "metadata": {},
   "outputs": [
    {
     "data": {
      "text/html": [
       "<div>\n",
       "<style scoped>\n",
       "    .dataframe tbody tr th:only-of-type {\n",
       "        vertical-align: middle;\n",
       "    }\n",
       "\n",
       "    .dataframe tbody tr th {\n",
       "        vertical-align: top;\n",
       "    }\n",
       "\n",
       "    .dataframe thead th {\n",
       "        text-align: right;\n",
       "    }\n",
       "</style>\n",
       "<table border=\"1\" class=\"dataframe\">\n",
       "  <thead>\n",
       "    <tr style=\"text-align: right;\">\n",
       "      <th></th>\n",
       "      <th>MAL_ID</th>\n",
       "      <th>Name</th>\n",
       "      <th>Type</th>\n",
       "      <th>Genres</th>\n",
       "      <th>Producer</th>\n",
       "      <th>Studio</th>\n",
       "      <th>Synopsis</th>\n",
       "      <th>voice_actors</th>\n",
       "    </tr>\n",
       "  </thead>\n",
       "  <tbody>\n",
       "    <tr>\n",
       "      <th>770</th>\n",
       "      <td>1456</td>\n",
       "      <td>L/R: Licensed by RoyalL/R -Licensed by Royal-</td>\n",
       "      <td>[TV]</td>\n",
       "      <td>[Action, Adventure, Police, Mystery]</td>\n",
       "      <td>[Victor Entertainment,  Fuji TV,  Pioneer LDC]</td>\n",
       "      <td>[TNK]</td>\n",
       "      <td>[Jack, Hofner, and, Rowe, Rikenbacker, are, Cl...</td>\n",
       "      <td>[HirataHiroaki,  UedaYuuji,  KoyamaRikiya,  To...</td>\n",
       "    </tr>\n",
       "  </tbody>\n",
       "</table>\n",
       "</div>"
      ],
      "text/plain": [
       "     MAL_ID                                           Name  Type  \\\n",
       "770    1456  L/R: Licensed by RoyalL/R -Licensed by Royal-  [TV]   \n",
       "\n",
       "                                   Genres  \\\n",
       "770  [Action, Adventure, Police, Mystery]   \n",
       "\n",
       "                                           Producer Studio  \\\n",
       "770  [Victor Entertainment,  Fuji TV,  Pioneer LDC]  [TNK]   \n",
       "\n",
       "                                              Synopsis  \\\n",
       "770  [Jack, Hofner, and, Rowe, Rikenbacker, are, Cl...   \n",
       "\n",
       "                                          voice_actors  \n",
       "770  [HirataHiroaki,  UedaYuuji,  KoyamaRikiya,  To...  "
      ]
     },
     "execution_count": 61,
     "metadata": {},
     "output_type": "execute_result"
    }
   ],
   "source": [
    "anime.sample(1)"
   ]
  },
  {
   "cell_type": "markdown",
   "id": "73ace671",
   "metadata": {},
   "source": [
    "# Let's remove any remaing whitespaces for type,genres,producer,studio,synopsis and voice_actors columns"
   ]
  },
  {
   "cell_type": "code",
   "execution_count": 62,
   "id": "aef8d7d6",
   "metadata": {},
   "outputs": [],
   "source": [
    "anime['Type'] = anime['Type'].apply(lambda x: [i.replace(\" \",\"\") for i in x])\n",
    "anime['Genres'] = anime['Genres'].apply(lambda x: [i.replace(\" \",\"\") for i in x])\n",
    "anime['Producer'] = anime['Producer'].apply(lambda x: [i.replace(\" \",\"\") for i in x])\n",
    "anime['Studio'] = anime['Studio'].apply(lambda x: [i.replace(\" \",\"\") for i in x])\n",
    "anime['Synopsis'] = anime['Synopsis'].apply(lambda x: [i.replace(\" \",\"\") for i in x])\n",
    "anime['voice_actors'] = anime['voice_actors'].apply(lambda x: [i.replace(\" \",\"\") for i in x])"
   ]
  },
  {
   "cell_type": "markdown",
   "id": "ea954592",
   "metadata": {},
   "source": [
    "# Let's create a tags column which contains type,genres,producer,studio,synopsis and voice_actors"
   ]
  },
  {
   "cell_type": "code",
   "execution_count": 63,
   "id": "64ae2131",
   "metadata": {},
   "outputs": [
    {
     "data": {
      "text/html": [
       "<div>\n",
       "<style scoped>\n",
       "    .dataframe tbody tr th:only-of-type {\n",
       "        vertical-align: middle;\n",
       "    }\n",
       "\n",
       "    .dataframe tbody tr th {\n",
       "        vertical-align: top;\n",
       "    }\n",
       "\n",
       "    .dataframe thead th {\n",
       "        text-align: right;\n",
       "    }\n",
       "</style>\n",
       "<table border=\"1\" class=\"dataframe\">\n",
       "  <thead>\n",
       "    <tr style=\"text-align: right;\">\n",
       "      <th></th>\n",
       "      <th>MAL_ID</th>\n",
       "      <th>Name</th>\n",
       "      <th>Type</th>\n",
       "      <th>Genres</th>\n",
       "      <th>Producer</th>\n",
       "      <th>Studio</th>\n",
       "      <th>Synopsis</th>\n",
       "      <th>voice_actors</th>\n",
       "      <th>tags</th>\n",
       "    </tr>\n",
       "  </thead>\n",
       "  <tbody>\n",
       "    <tr>\n",
       "      <th>248</th>\n",
       "      <td>324</td>\n",
       "      <td>Kidou Keisatsu Patlabor: On Television機動警察パトレイ...</td>\n",
       "      <td>[TV]</td>\n",
       "      <td>[Comedy, Mecha, Police, Sci-Fi]</td>\n",
       "      <td>[TohokushinshaFilmCorporation]</td>\n",
       "      <td>[Sunrise]</td>\n",
       "      <td>[In, the, future,, advanced, robotics, has, cr...</td>\n",
       "      <td>[TominagaMiina, FurukawaToshio, IkemizuMichihi...</td>\n",
       "      <td>[TV, Comedy, Mecha, Police, Sci-Fi, Tohokushin...</td>\n",
       "    </tr>\n",
       "  </tbody>\n",
       "</table>\n",
       "</div>"
      ],
      "text/plain": [
       "     MAL_ID                                               Name  Type  \\\n",
       "248     324  Kidou Keisatsu Patlabor: On Television機動警察パトレイ...  [TV]   \n",
       "\n",
       "                              Genres                        Producer  \\\n",
       "248  [Comedy, Mecha, Police, Sci-Fi]  [TohokushinshaFilmCorporation]   \n",
       "\n",
       "        Studio                                           Synopsis  \\\n",
       "248  [Sunrise]  [In, the, future,, advanced, robotics, has, cr...   \n",
       "\n",
       "                                          voice_actors  \\\n",
       "248  [TominagaMiina, FurukawaToshio, IkemizuMichihi...   \n",
       "\n",
       "                                                  tags  \n",
       "248  [TV, Comedy, Mecha, Police, Sci-Fi, Tohokushin...  "
      ]
     },
     "execution_count": 63,
     "metadata": {},
     "output_type": "execute_result"
    }
   ],
   "source": [
    "anime['tags'] = anime['Type'] + anime['Genres'] + anime['Producer'] + anime['Studio'] + anime['Synopsis']+ anime['voice_actors']\n",
    "anime.sample(1)"
   ]
  },
  {
   "cell_type": "code",
   "execution_count": 64,
   "id": "be0d2d98",
   "metadata": {},
   "outputs": [
    {
     "data": {
      "text/plain": [
       "2227    [OVA, Comedy, ShoujoAi, Aniplex, ufotable, Nao...\n",
       "Name: tags, dtype: object"
      ]
     },
     "execution_count": 64,
     "metadata": {},
     "output_type": "execute_result"
    }
   ],
   "source": [
    "anime['tags'].sample(1)"
   ]
  },
  {
   "cell_type": "code",
   "execution_count": 65,
   "id": "f03d6030",
   "metadata": {},
   "outputs": [],
   "source": [
    "anime=anime[['MAL_ID','Name','tags']]"
   ]
  },
  {
   "cell_type": "code",
   "execution_count": 66,
   "id": "ea130e5a",
   "metadata": {},
   "outputs": [
    {
     "data": {
      "text/html": [
       "<div>\n",
       "<style scoped>\n",
       "    .dataframe tbody tr th:only-of-type {\n",
       "        vertical-align: middle;\n",
       "    }\n",
       "\n",
       "    .dataframe tbody tr th {\n",
       "        vertical-align: top;\n",
       "    }\n",
       "\n",
       "    .dataframe thead th {\n",
       "        text-align: right;\n",
       "    }\n",
       "</style>\n",
       "<table border=\"1\" class=\"dataframe\">\n",
       "  <thead>\n",
       "    <tr style=\"text-align: right;\">\n",
       "      <th></th>\n",
       "      <th>MAL_ID</th>\n",
       "      <th>Name</th>\n",
       "      <th>tags</th>\n",
       "    </tr>\n",
       "  </thead>\n",
       "  <tbody>\n",
       "    <tr>\n",
       "      <th>968</th>\n",
       "      <td>1883</td>\n",
       "      <td>Kappa no Kaikataカッパの飼い方</td>\n",
       "      <td>[TV, Comedy, NihonAdSystems, PictureMagic, oun...</td>\n",
       "    </tr>\n",
       "  </tbody>\n",
       "</table>\n",
       "</div>"
      ],
      "text/plain": [
       "     MAL_ID                     Name  \\\n",
       "968    1883  Kappa no Kaikataカッパの飼い方   \n",
       "\n",
       "                                                  tags  \n",
       "968  [TV, Comedy, NihonAdSystems, PictureMagic, oun...  "
      ]
     },
     "execution_count": 66,
     "metadata": {},
     "output_type": "execute_result"
    }
   ],
   "source": [
    "anime.sample(1)"
   ]
  },
  {
   "cell_type": "code",
   "execution_count": 67,
   "id": "c569a863",
   "metadata": {},
   "outputs": [],
   "source": [
    "#here, we convert the datatype of column 'tags' to string;\n",
    "anime['tags'] = anime['tags'].apply(lambda x: \" \".join(x))"
   ]
  },
  {
   "cell_type": "code",
   "execution_count": 68,
   "id": "ead45460",
   "metadata": {},
   "outputs": [],
   "source": [
    "anime['tags'] = anime['tags'].apply(lambda x: x.lower())"
   ]
  },
  {
   "cell_type": "code",
   "execution_count": 69,
   "id": "aac75bd9",
   "metadata": {},
   "outputs": [
    {
     "data": {
      "text/plain": [
       "'tv action adventure comedy drama sci-fi space bandaivisual sunrise in the year 2071, humanity has colonized several of the planets and moons of the solar system leaving the now uninhabitable surface of planet earth behind. the inter solar system police attempts to keep peace in the galaxy, aided in part by outlaw bounty hunters, referred to as \"cowboys.\" the ragtag team aboard the spaceship bebop are two such individuals. mellow and carefree spike spiegel is balanced by his boisterous, pragmatic partner jet black as the pair makes a living chasing bounties and collecting rewards. thrown off course by the addition of new members that they meet in their travels—ein, a genetically engineered, highly intelligent welsh corgi; femme fatale faye valentine, an enigmatic trickster with memory loss; and the strange computer whiz kid edward wong—the crew embarks on thrilling adventures that unravel each member\\'s dark and mysterious past little by little. well-balanced with high density action and light-hearted comedy, cowboy bebop is a space western classic and an homage to the smooth and improvised music it is named after. yamaderakouichi hayashibaramegumi tadaaoi ishizukaunshou yamaderakouichi wakamotonorio horiuchikenyuu ebaramasashi takashimagara gingabanjou'"
      ]
     },
     "execution_count": 69,
     "metadata": {},
     "output_type": "execute_result"
    }
   ],
   "source": [
    "anime['tags'][0]"
   ]
  },
  {
   "cell_type": "markdown",
   "id": "d84d0b61",
   "metadata": {},
   "source": [
    "# Thus, we have completed the preprocessing of our dataset. Let's proceeed with applying algorithms."
   ]
  },
  {
   "cell_type": "code",
   "execution_count": null,
   "id": "fc6df46b",
   "metadata": {},
   "outputs": [],
   "source": [
    "from sklearn.feature_extraction.text import CountVectorizer\n",
    "cv = CountVectorizer(max_features=5000,stop_words='english')  "
   ]
  },
  {
   "cell_type": "code",
   "execution_count": null,
   "id": "97f01147",
   "metadata": {},
   "outputs": [],
   "source": [
    "cv.fit_transform(anime['tags']).toarray()    "
   ]
  },
  {
   "cell_type": "code",
   "execution_count": null,
   "id": "ad6a25c6",
   "metadata": {},
   "outputs": [],
   "source": [
    "cv.fit_transform(anime['tags']).shape"
   ]
  },
  {
   "cell_type": "code",
   "execution_count": null,
   "id": "ed642069",
   "metadata": {},
   "outputs": [],
   "source": [
    "cv.get_feature_names()"
   ]
  },
  {
   "cell_type": "markdown",
   "id": "3adace05",
   "metadata": {},
   "source": [
    "# We can observe that some words have their plurals as seperate features, to avoid this we need to perform stemming."
   ]
  },
  {
   "cell_type": "code",
   "execution_count": null,
   "id": "63d2c13d",
   "metadata": {},
   "outputs": [],
   "source": [
    "from nltk.stem.porter import PorterStemmer\n",
    "ps = PorterStemmer()\n",
    "\n",
    "def stem(text):\n",
    "    l = []\n",
    "    for word in text.split():\n",
    "        l.append(ps.stem(word))\n",
    "    return \" \".join(l)"
   ]
  },
  {
   "cell_type": "code",
   "execution_count": null,
   "id": "2627fb92",
   "metadata": {},
   "outputs": [],
   "source": [
    "anime['tags'] =anime['tags'].apply(stem)"
   ]
  },
  {
   "cell_type": "markdown",
   "id": "f2597afd",
   "metadata": {},
   "source": [
    "# Now, we can continue with count vectorization"
   ]
  },
  {
   "cell_type": "code",
   "execution_count": null,
   "id": "eaeb8fee",
   "metadata": {},
   "outputs": [],
   "source": [
    "vectors = cv.fit_transform(anime['tags']).toarray()  \n",
    "vectors[0]"
   ]
  },
  {
   "cell_type": "code",
   "execution_count": null,
   "id": "c8607486",
   "metadata": {},
   "outputs": [],
   "source": [
    "cv.get_feature_names()"
   ]
  },
  {
   "cell_type": "markdown",
   "id": "715e997f",
   "metadata": {},
   "source": [
    "# We need to find cosine similarity for vectors representing anime_titles (array of arrays)"
   ]
  },
  {
   "cell_type": "code",
   "execution_count": null,
   "id": "4da64a3a",
   "metadata": {},
   "outputs": [],
   "source": [
    "from sklearn.metrics.pairwise import cosine_similarity\n",
    "cosine_similarity(vectors)"
   ]
  },
  {
   "cell_type": "code",
   "execution_count": null,
   "id": "2d482f69",
   "metadata": {},
   "outputs": [],
   "source": [
    "similarity = cosine_similarity(vectors)"
   ]
  },
  {
   "cell_type": "code",
   "execution_count": null,
   "id": "68aba868",
   "metadata": {},
   "outputs": [],
   "source": [
    "similarity.shape"
   ]
  },
  {
   "cell_type": "code",
   "execution_count": null,
   "id": "248761e9",
   "metadata": {},
   "outputs": [],
   "source": [
    "similarity[0] #This array represents the similarity of 1st anime wrt to all other animes in our dataset"
   ]
  },
  {
   "cell_type": "code",
   "execution_count": null,
   "id": "00831b3f",
   "metadata": {},
   "outputs": [],
   "source": [
    "sorted(list(enumerate(similarity[0])),reverse=True,key=lambda x:x[1]) [1:6]"
   ]
  },
  {
   "cell_type": "code",
   "execution_count": null,
   "id": "4c238026",
   "metadata": {},
   "outputs": [],
   "source": [
    "def recommend_anime(anime_title):\n",
    "    anime_index = anime[anime['Name']==anime_title].index[0]\n",
    "    distances = similarity[anime_index]\n",
    "    anime_list = sorted(list(enumerate(distances)),reverse=True,key=lambda x:x[1])[1:6]\n",
    "    for i in anime_list:\n",
    "        print(i[0])"
   ]
  },
  {
   "cell_type": "code",
   "execution_count": null,
   "id": "802197d1",
   "metadata": {},
   "outputs": [],
   "source": [
    "# recommend_anime('')\n",
    "anime['Name']"
   ]
  },
  {
   "cell_type": "code",
   "execution_count": null,
   "id": "ff0a3ccc",
   "metadata": {},
   "outputs": [],
   "source": [
    "recommend_anime('Cowboy Bebopカウボーイビバップ')"
   ]
  },
  {
   "cell_type": "markdown",
   "id": "7665ea38",
   "metadata": {},
   "source": [
    "# Final function for our recommendation system"
   ]
  },
  {
   "cell_type": "code",
   "execution_count": null,
   "id": "1a239153",
   "metadata": {},
   "outputs": [],
   "source": [
    "def recommend_anime(anime_title):\n",
    "    anime_index = anime[anime['Name']==anime_title].index[0]\n",
    "    distances = similarity[anime_index]\n",
    "    anime_list = sorted(list(enumerate(distances)),reverse=True,key=lambda x:x[1])[1:6]\n",
    "    for anime_title in anime_list:\n",
    "        print(anime.iloc[anime_title[0]].Name)"
   ]
  },
  {
   "cell_type": "code",
   "execution_count": null,
   "id": "8971c4d2",
   "metadata": {},
   "outputs": [],
   "source": [
    "recommend_anime('Cowboy Bebopカウボーイビバップ')"
   ]
  },
  {
   "cell_type": "code",
   "execution_count": null,
   "id": "383c10e8",
   "metadata": {},
   "outputs": [],
   "source": [
    "recommend_anime('Waga Seishun no Arcadia: Mugen Kidou SSXわが青春のアルカディア・無限軌道ＳＳＸ')"
   ]
  },
  {
   "cell_type": "code",
   "execution_count": null,
   "id": "6196f3fa",
   "metadata": {},
   "outputs": [],
   "source": [
    "anime.sample(4)\n"
   ]
  },
  {
   "cell_type": "code",
   "execution_count": null,
   "id": "fcffba16",
   "metadata": {},
   "outputs": [],
   "source": [
    "import pickle\n",
    "pickle.dump(anime,open('anime_list.pkl','wb'))"
   ]
  },
  {
   "cell_type": "code",
   "execution_count": null,
   "id": "7483eb88",
   "metadata": {},
   "outputs": [],
   "source": [
    "pickle.dump(similarity,open('similarity.pkl','wb'))"
   ]
  },
  {
   "cell_type": "code",
   "execution_count": null,
   "id": "84147aa3",
   "metadata": {},
   "outputs": [],
   "source": []
  }
 ],
 "metadata": {
  "kernelspec": {
   "display_name": "Python 3 (ipykernel)",
   "language": "python",
   "name": "python3"
  },
  "language_info": {
   "codemirror_mode": {
    "name": "ipython",
    "version": 3
   },
   "file_extension": ".py",
   "mimetype": "text/x-python",
   "name": "python",
   "nbconvert_exporter": "python",
   "pygments_lexer": "ipython3",
   "version": "3.10.5"
  }
 },
 "nbformat": 4,
 "nbformat_minor": 5
}
